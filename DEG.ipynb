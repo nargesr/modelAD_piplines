{
 "cells": [
  {
   "cell_type": "markdown",
   "metadata": {},
   "source": [
    "## Loading library"
   ]
  },
  {
   "cell_type": "code",
   "execution_count": 1,
   "metadata": {},
   "outputs": [
    {
     "name": "stderr",
     "output_type": "stream",
     "text": [
      "Loading required package: limma\n",
      "\n",
      "Warning message:\n",
      "\"replacing previous import 'vctrs::data_frame' by 'tibble::data_frame' when loading 'dplyr'\"\n"
     ]
    }
   ],
   "source": [
    "library(edgeR)\n",
    "library(ggplot2)\n",
    "library(\"ggrepel\")"
   ]
  },
  {
   "cell_type": "markdown",
   "metadata": {
    "tags": []
   },
   "source": [
    "## Read the data\n",
    "you should have to prepare two data:\n",
    "1. FPKM or count matrix\n",
    "2. metadata (with the same order of data set 1)\n",
    "3. gene list which you can convert gene id to gene name\n",
    "\n",
    "one you have all your data, you need to subset you data base on the comparison you want to do."
   ]
  },
  {
   "cell_type": "code",
   "execution_count": 5,
   "metadata": {},
   "outputs": [
    {
     "data": {
      "text/html": [
       "<table>\n",
       "<caption>A data.frame: 6 x 79</caption>\n",
       "<thead>\n",
       "\t<tr><th></th><th scope=col>12mo_hipp_F_5xFADHEMI_11932_rsem.genes.results</th><th scope=col>12mo_hipp_M_5xFADHEMI:SPI1HO_12188_rsem.genes.results</th><th scope=col>4mo_hipp_F_5xFADWT:SPI1HO_13262_rsem.genes.results</th><th scope=col>12mo_hipp_F_5xFADWT_11643_rsem.genes.results</th><th scope=col>12mo_hipp_F_5xFADWT:SPI1HO_12194_rsem.genes.results</th><th scope=col>12mo_hipp_F_5xFADWT_11412_rsem.genes.results</th><th scope=col>4mo_hipp_M_5xFADHEMI:SPI1HO_13251_rsem.genes.results</th><th scope=col>12mo_hipp_F_5xFADHEMI:SPI1HO_12204_rsem.genes.results</th><th scope=col>4mo_hipp_M_5xFADHEMI_11631_rsem.genes.results</th><th scope=col>4mo_hipp_F_5xFADWT:SPI1HO_13267_rsem.genes.results</th><th scope=col>...</th><th scope=col>12mo_hipp_M_5xFADWT:SPI1HO_12180_rsem.genes.results</th><th scope=col>12mo_hipp_F_5xFADHEMI:SPI1HO_12203_rsem.genes.results</th><th scope=col>12mo_hipp_F_5xFADWT_11414_rsem.genes.results</th><th scope=col>4mo_hipp_M_5xFADWT_11620_rsem.genes.results</th><th scope=col>4mo_hipp_F_5xFADWT_11628_rsem.genes.results</th><th scope=col>12mo_hipp_F_5xFADWT:SPI1HO_12205_rsem.genes.results</th><th scope=col>12mo_hipp_M_5xFADWT_11650_rsem.genes.results</th><th scope=col>12mo_hipp_F_5xFADHEMI_11644_rsem.genes.results</th><th scope=col>12mo_hipp_F_5xFADWT_11656_rsem.genes.results</th><th scope=col>4mo_hipp_M_5xFADHEMI:SPI1HO_13268_rsem.genes.results</th></tr>\n",
       "\t<tr><th></th><th scope=col>&lt;dbl&gt;</th><th scope=col>&lt;dbl&gt;</th><th scope=col>&lt;dbl&gt;</th><th scope=col>&lt;dbl&gt;</th><th scope=col>&lt;dbl&gt;</th><th scope=col>&lt;dbl&gt;</th><th scope=col>&lt;dbl&gt;</th><th scope=col>&lt;dbl&gt;</th><th scope=col>&lt;dbl&gt;</th><th scope=col>&lt;dbl&gt;</th><th scope=col>...</th><th scope=col>&lt;dbl&gt;</th><th scope=col>&lt;dbl&gt;</th><th scope=col>&lt;dbl&gt;</th><th scope=col>&lt;dbl&gt;</th><th scope=col>&lt;dbl&gt;</th><th scope=col>&lt;dbl&gt;</th><th scope=col>&lt;dbl&gt;</th><th scope=col>&lt;dbl&gt;</th><th scope=col>&lt;dbl&gt;</th><th scope=col>&lt;dbl&gt;</th></tr>\n",
       "</thead>\n",
       "<tbody>\n",
       "\t<tr><th scope=row>ENSMUSG00000000001.4</th><td>1009</td><td>1011</td><td>745</td><td>760</td><td>752</td><td>808</td><td>712</td><td>912</td><td>782</td><td>734</td><td>...</td><td>654</td><td>745</td><td>532</td><td>675</td><td>791</td><td>701</td><td>797</td><td>663</td><td>766</td><td>920</td></tr>\n",
       "\t<tr><th scope=row>ENSMUSG00000000003.15</th><td>   0</td><td>   0</td><td>  0</td><td>  0</td><td>  0</td><td>  0</td><td>  0</td><td>  0</td><td>  0</td><td>  0</td><td>...</td><td>  0</td><td>  0</td><td>  0</td><td>  0</td><td>  0</td><td>  0</td><td>  0</td><td>  0</td><td>  0</td><td>  0</td></tr>\n",
       "\t<tr><th scope=row>ENSMUSG00000000028.15</th><td>  62</td><td>  39</td><td> 41</td><td> 36</td><td> 25</td><td> 10</td><td> 23</td><td> 52</td><td> 24</td><td> 30</td><td>...</td><td> 13</td><td> 40</td><td> 22</td><td> 18</td><td> 22</td><td> 30</td><td> 27</td><td> 34</td><td> 20</td><td> 29</td></tr>\n",
       "\t<tr><th scope=row>ENSMUSG00000000031.16</th><td>  21</td><td>   6</td><td> 12</td><td>  3</td><td>  7</td><td>  0</td><td>  5</td><td> 10</td><td>  6</td><td> 10</td><td>...</td><td>  1</td><td> 10</td><td>  6</td><td>  2</td><td>  8</td><td> 20</td><td>  1</td><td>  8</td><td>  2</td><td>  5</td></tr>\n",
       "\t<tr><th scope=row>ENSMUSG00000000037.16</th><td>   5</td><td>  11</td><td> 27</td><td> 18</td><td> 14</td><td> 19</td><td> 14</td><td> 30</td><td> 10</td><td>  9</td><td>...</td><td> 13</td><td> 18</td><td> 19</td><td> 12</td><td>  6</td><td> 19</td><td> 20</td><td> 19</td><td> 12</td><td> 13</td></tr>\n",
       "\t<tr><th scope=row>ENSMUSG00000000049.11</th><td>   4</td><td>   6</td><td>  8</td><td>  1</td><td>  5</td><td>  4</td><td>  5</td><td>  3</td><td>  5</td><td> 31</td><td>...</td><td>  0</td><td> 10</td><td>  0</td><td>  7</td><td> 12</td><td>  4</td><td>  8</td><td>  2</td><td>  8</td><td> 17</td></tr>\n",
       "</tbody>\n",
       "</table>\n"
      ],
      "text/latex": [
       "A data.frame: 6 x 79\n",
       "\\begin{tabular}{r|lllllllllllllllllllll}\n",
       "  & 12mo\\_hipp\\_F\\_5xFADHEMI\\_11932\\_rsem.genes.results & 12mo\\_hipp\\_M\\_5xFADHEMI:SPI1HO\\_12188\\_rsem.genes.results & 4mo\\_hipp\\_F\\_5xFADWT:SPI1HO\\_13262\\_rsem.genes.results & 12mo\\_hipp\\_F\\_5xFADWT\\_11643\\_rsem.genes.results & 12mo\\_hipp\\_F\\_5xFADWT:SPI1HO\\_12194\\_rsem.genes.results & 12mo\\_hipp\\_F\\_5xFADWT\\_11412\\_rsem.genes.results & 4mo\\_hipp\\_M\\_5xFADHEMI:SPI1HO\\_13251\\_rsem.genes.results & 12mo\\_hipp\\_F\\_5xFADHEMI:SPI1HO\\_12204\\_rsem.genes.results & 4mo\\_hipp\\_M\\_5xFADHEMI\\_11631\\_rsem.genes.results & 4mo\\_hipp\\_F\\_5xFADWT:SPI1HO\\_13267\\_rsem.genes.results & ... & 12mo\\_hipp\\_M\\_5xFADWT:SPI1HO\\_12180\\_rsem.genes.results & 12mo\\_hipp\\_F\\_5xFADHEMI:SPI1HO\\_12203\\_rsem.genes.results & 12mo\\_hipp\\_F\\_5xFADWT\\_11414\\_rsem.genes.results & 4mo\\_hipp\\_M\\_5xFADWT\\_11620\\_rsem.genes.results & 4mo\\_hipp\\_F\\_5xFADWT\\_11628\\_rsem.genes.results & 12mo\\_hipp\\_F\\_5xFADWT:SPI1HO\\_12205\\_rsem.genes.results & 12mo\\_hipp\\_M\\_5xFADWT\\_11650\\_rsem.genes.results & 12mo\\_hipp\\_F\\_5xFADHEMI\\_11644\\_rsem.genes.results & 12mo\\_hipp\\_F\\_5xFADWT\\_11656\\_rsem.genes.results & 4mo\\_hipp\\_M\\_5xFADHEMI:SPI1HO\\_13268\\_rsem.genes.results\\\\\n",
       "  & <dbl> & <dbl> & <dbl> & <dbl> & <dbl> & <dbl> & <dbl> & <dbl> & <dbl> & <dbl> & ... & <dbl> & <dbl> & <dbl> & <dbl> & <dbl> & <dbl> & <dbl> & <dbl> & <dbl> & <dbl>\\\\\n",
       "\\hline\n",
       "\tENSMUSG00000000001.4 & 1009 & 1011 & 745 & 760 & 752 & 808 & 712 & 912 & 782 & 734 & ... & 654 & 745 & 532 & 675 & 791 & 701 & 797 & 663 & 766 & 920\\\\\n",
       "\tENSMUSG00000000003.15 &    0 &    0 &   0 &   0 &   0 &   0 &   0 &   0 &   0 &   0 & ... &   0 &   0 &   0 &   0 &   0 &   0 &   0 &   0 &   0 &   0\\\\\n",
       "\tENSMUSG00000000028.15 &   62 &   39 &  41 &  36 &  25 &  10 &  23 &  52 &  24 &  30 & ... &  13 &  40 &  22 &  18 &  22 &  30 &  27 &  34 &  20 &  29\\\\\n",
       "\tENSMUSG00000000031.16 &   21 &    6 &  12 &   3 &   7 &   0 &   5 &  10 &   6 &  10 & ... &   1 &  10 &   6 &   2 &   8 &  20 &   1 &   8 &   2 &   5\\\\\n",
       "\tENSMUSG00000000037.16 &    5 &   11 &  27 &  18 &  14 &  19 &  14 &  30 &  10 &   9 & ... &  13 &  18 &  19 &  12 &   6 &  19 &  20 &  19 &  12 &  13\\\\\n",
       "\tENSMUSG00000000049.11 &    4 &    6 &   8 &   1 &   5 &   4 &   5 &   3 &   5 &  31 & ... &   0 &  10 &   0 &   7 &  12 &   4 &   8 &   2 &   8 &  17\\\\\n",
       "\\end{tabular}\n"
      ],
      "text/markdown": [
       "\n",
       "A data.frame: 6 x 79\n",
       "\n",
       "| <!--/--> | 12mo_hipp_F_5xFADHEMI_11932_rsem.genes.results &lt;dbl&gt; | 12mo_hipp_M_5xFADHEMI:SPI1HO_12188_rsem.genes.results &lt;dbl&gt; | 4mo_hipp_F_5xFADWT:SPI1HO_13262_rsem.genes.results &lt;dbl&gt; | 12mo_hipp_F_5xFADWT_11643_rsem.genes.results &lt;dbl&gt; | 12mo_hipp_F_5xFADWT:SPI1HO_12194_rsem.genes.results &lt;dbl&gt; | 12mo_hipp_F_5xFADWT_11412_rsem.genes.results &lt;dbl&gt; | 4mo_hipp_M_5xFADHEMI:SPI1HO_13251_rsem.genes.results &lt;dbl&gt; | 12mo_hipp_F_5xFADHEMI:SPI1HO_12204_rsem.genes.results &lt;dbl&gt; | 4mo_hipp_M_5xFADHEMI_11631_rsem.genes.results &lt;dbl&gt; | 4mo_hipp_F_5xFADWT:SPI1HO_13267_rsem.genes.results &lt;dbl&gt; | ... ... | 12mo_hipp_M_5xFADWT:SPI1HO_12180_rsem.genes.results &lt;dbl&gt; | 12mo_hipp_F_5xFADHEMI:SPI1HO_12203_rsem.genes.results &lt;dbl&gt; | 12mo_hipp_F_5xFADWT_11414_rsem.genes.results &lt;dbl&gt; | 4mo_hipp_M_5xFADWT_11620_rsem.genes.results &lt;dbl&gt; | 4mo_hipp_F_5xFADWT_11628_rsem.genes.results &lt;dbl&gt; | 12mo_hipp_F_5xFADWT:SPI1HO_12205_rsem.genes.results &lt;dbl&gt; | 12mo_hipp_M_5xFADWT_11650_rsem.genes.results &lt;dbl&gt; | 12mo_hipp_F_5xFADHEMI_11644_rsem.genes.results &lt;dbl&gt; | 12mo_hipp_F_5xFADWT_11656_rsem.genes.results &lt;dbl&gt; | 4mo_hipp_M_5xFADHEMI:SPI1HO_13268_rsem.genes.results &lt;dbl&gt; |\n",
       "|---|---|---|---|---|---|---|---|---|---|---|---|---|---|---|---|---|---|---|---|---|---|\n",
       "| ENSMUSG00000000001.4 | 1009 | 1011 | 745 | 760 | 752 | 808 | 712 | 912 | 782 | 734 | ... | 654 | 745 | 532 | 675 | 791 | 701 | 797 | 663 | 766 | 920 |\n",
       "| ENSMUSG00000000003.15 |    0 |    0 |   0 |   0 |   0 |   0 |   0 |   0 |   0 |   0 | ... |   0 |   0 |   0 |   0 |   0 |   0 |   0 |   0 |   0 |   0 |\n",
       "| ENSMUSG00000000028.15 |   62 |   39 |  41 |  36 |  25 |  10 |  23 |  52 |  24 |  30 | ... |  13 |  40 |  22 |  18 |  22 |  30 |  27 |  34 |  20 |  29 |\n",
       "| ENSMUSG00000000031.16 |   21 |    6 |  12 |   3 |   7 |   0 |   5 |  10 |   6 |  10 | ... |   1 |  10 |   6 |   2 |   8 |  20 |   1 |   8 |   2 |   5 |\n",
       "| ENSMUSG00000000037.16 |    5 |   11 |  27 |  18 |  14 |  19 |  14 |  30 |  10 |   9 | ... |  13 |  18 |  19 |  12 |   6 |  19 |  20 |  19 |  12 |  13 |\n",
       "| ENSMUSG00000000049.11 |    4 |    6 |   8 |   1 |   5 |   4 |   5 |   3 |   5 |  31 | ... |   0 |  10 |   0 |   7 |  12 |   4 |   8 |   2 |   8 |  17 |\n",
       "\n"
      ],
      "text/plain": [
       "                      12mo_hipp_F_5xFADHEMI_11932_rsem.genes.results\n",
       "ENSMUSG00000000001.4  1009                                          \n",
       "ENSMUSG00000000003.15    0                                          \n",
       "ENSMUSG00000000028.15   62                                          \n",
       "ENSMUSG00000000031.16   21                                          \n",
       "ENSMUSG00000000037.16    5                                          \n",
       "ENSMUSG00000000049.11    4                                          \n",
       "                      12mo_hipp_M_5xFADHEMI:SPI1HO_12188_rsem.genes.results\n",
       "ENSMUSG00000000001.4  1011                                                 \n",
       "ENSMUSG00000000003.15    0                                                 \n",
       "ENSMUSG00000000028.15   39                                                 \n",
       "ENSMUSG00000000031.16    6                                                 \n",
       "ENSMUSG00000000037.16   11                                                 \n",
       "ENSMUSG00000000049.11    6                                                 \n",
       "                      4mo_hipp_F_5xFADWT:SPI1HO_13262_rsem.genes.results\n",
       "ENSMUSG00000000001.4  745                                               \n",
       "ENSMUSG00000000003.15   0                                               \n",
       "ENSMUSG00000000028.15  41                                               \n",
       "ENSMUSG00000000031.16  12                                               \n",
       "ENSMUSG00000000037.16  27                                               \n",
       "ENSMUSG00000000049.11   8                                               \n",
       "                      12mo_hipp_F_5xFADWT_11643_rsem.genes.results\n",
       "ENSMUSG00000000001.4  760                                         \n",
       "ENSMUSG00000000003.15   0                                         \n",
       "ENSMUSG00000000028.15  36                                         \n",
       "ENSMUSG00000000031.16   3                                         \n",
       "ENSMUSG00000000037.16  18                                         \n",
       "ENSMUSG00000000049.11   1                                         \n",
       "                      12mo_hipp_F_5xFADWT:SPI1HO_12194_rsem.genes.results\n",
       "ENSMUSG00000000001.4  752                                                \n",
       "ENSMUSG00000000003.15   0                                                \n",
       "ENSMUSG00000000028.15  25                                                \n",
       "ENSMUSG00000000031.16   7                                                \n",
       "ENSMUSG00000000037.16  14                                                \n",
       "ENSMUSG00000000049.11   5                                                \n",
       "                      12mo_hipp_F_5xFADWT_11412_rsem.genes.results\n",
       "ENSMUSG00000000001.4  808                                         \n",
       "ENSMUSG00000000003.15   0                                         \n",
       "ENSMUSG00000000028.15  10                                         \n",
       "ENSMUSG00000000031.16   0                                         \n",
       "ENSMUSG00000000037.16  19                                         \n",
       "ENSMUSG00000000049.11   4                                         \n",
       "                      4mo_hipp_M_5xFADHEMI:SPI1HO_13251_rsem.genes.results\n",
       "ENSMUSG00000000001.4  712                                                 \n",
       "ENSMUSG00000000003.15   0                                                 \n",
       "ENSMUSG00000000028.15  23                                                 \n",
       "ENSMUSG00000000031.16   5                                                 \n",
       "ENSMUSG00000000037.16  14                                                 \n",
       "ENSMUSG00000000049.11   5                                                 \n",
       "                      12mo_hipp_F_5xFADHEMI:SPI1HO_12204_rsem.genes.results\n",
       "ENSMUSG00000000001.4  912                                                  \n",
       "ENSMUSG00000000003.15   0                                                  \n",
       "ENSMUSG00000000028.15  52                                                  \n",
       "ENSMUSG00000000031.16  10                                                  \n",
       "ENSMUSG00000000037.16  30                                                  \n",
       "ENSMUSG00000000049.11   3                                                  \n",
       "                      4mo_hipp_M_5xFADHEMI_11631_rsem.genes.results\n",
       "ENSMUSG00000000001.4  782                                          \n",
       "ENSMUSG00000000003.15   0                                          \n",
       "ENSMUSG00000000028.15  24                                          \n",
       "ENSMUSG00000000031.16   6                                          \n",
       "ENSMUSG00000000037.16  10                                          \n",
       "ENSMUSG00000000049.11   5                                          \n",
       "                      4mo_hipp_F_5xFADWT:SPI1HO_13267_rsem.genes.results ...\n",
       "ENSMUSG00000000001.4  734                                                ...\n",
       "ENSMUSG00000000003.15   0                                                ...\n",
       "ENSMUSG00000000028.15  30                                                ...\n",
       "ENSMUSG00000000031.16  10                                                ...\n",
       "ENSMUSG00000000037.16   9                                                ...\n",
       "ENSMUSG00000000049.11  31                                                ...\n",
       "                      12mo_hipp_M_5xFADWT:SPI1HO_12180_rsem.genes.results\n",
       "ENSMUSG00000000001.4  654                                                \n",
       "ENSMUSG00000000003.15   0                                                \n",
       "ENSMUSG00000000028.15  13                                                \n",
       "ENSMUSG00000000031.16   1                                                \n",
       "ENSMUSG00000000037.16  13                                                \n",
       "ENSMUSG00000000049.11   0                                                \n",
       "                      12mo_hipp_F_5xFADHEMI:SPI1HO_12203_rsem.genes.results\n",
       "ENSMUSG00000000001.4  745                                                  \n",
       "ENSMUSG00000000003.15   0                                                  \n",
       "ENSMUSG00000000028.15  40                                                  \n",
       "ENSMUSG00000000031.16  10                                                  \n",
       "ENSMUSG00000000037.16  18                                                  \n",
       "ENSMUSG00000000049.11  10                                                  \n",
       "                      12mo_hipp_F_5xFADWT_11414_rsem.genes.results\n",
       "ENSMUSG00000000001.4  532                                         \n",
       "ENSMUSG00000000003.15   0                                         \n",
       "ENSMUSG00000000028.15  22                                         \n",
       "ENSMUSG00000000031.16   6                                         \n",
       "ENSMUSG00000000037.16  19                                         \n",
       "ENSMUSG00000000049.11   0                                         \n",
       "                      4mo_hipp_M_5xFADWT_11620_rsem.genes.results\n",
       "ENSMUSG00000000001.4  675                                        \n",
       "ENSMUSG00000000003.15   0                                        \n",
       "ENSMUSG00000000028.15  18                                        \n",
       "ENSMUSG00000000031.16   2                                        \n",
       "ENSMUSG00000000037.16  12                                        \n",
       "ENSMUSG00000000049.11   7                                        \n",
       "                      4mo_hipp_F_5xFADWT_11628_rsem.genes.results\n",
       "ENSMUSG00000000001.4  791                                        \n",
       "ENSMUSG00000000003.15   0                                        \n",
       "ENSMUSG00000000028.15  22                                        \n",
       "ENSMUSG00000000031.16   8                                        \n",
       "ENSMUSG00000000037.16   6                                        \n",
       "ENSMUSG00000000049.11  12                                        \n",
       "                      12mo_hipp_F_5xFADWT:SPI1HO_12205_rsem.genes.results\n",
       "ENSMUSG00000000001.4  701                                                \n",
       "ENSMUSG00000000003.15   0                                                \n",
       "ENSMUSG00000000028.15  30                                                \n",
       "ENSMUSG00000000031.16  20                                                \n",
       "ENSMUSG00000000037.16  19                                                \n",
       "ENSMUSG00000000049.11   4                                                \n",
       "                      12mo_hipp_M_5xFADWT_11650_rsem.genes.results\n",
       "ENSMUSG00000000001.4  797                                         \n",
       "ENSMUSG00000000003.15   0                                         \n",
       "ENSMUSG00000000028.15  27                                         \n",
       "ENSMUSG00000000031.16   1                                         \n",
       "ENSMUSG00000000037.16  20                                         \n",
       "ENSMUSG00000000049.11   8                                         \n",
       "                      12mo_hipp_F_5xFADHEMI_11644_rsem.genes.results\n",
       "ENSMUSG00000000001.4  663                                           \n",
       "ENSMUSG00000000003.15   0                                           \n",
       "ENSMUSG00000000028.15  34                                           \n",
       "ENSMUSG00000000031.16   8                                           \n",
       "ENSMUSG00000000037.16  19                                           \n",
       "ENSMUSG00000000049.11   2                                           \n",
       "                      12mo_hipp_F_5xFADWT_11656_rsem.genes.results\n",
       "ENSMUSG00000000001.4  766                                         \n",
       "ENSMUSG00000000003.15   0                                         \n",
       "ENSMUSG00000000028.15  20                                         \n",
       "ENSMUSG00000000031.16   2                                         \n",
       "ENSMUSG00000000037.16  12                                         \n",
       "ENSMUSG00000000049.11   8                                         \n",
       "                      4mo_hipp_M_5xFADHEMI:SPI1HO_13268_rsem.genes.results\n",
       "ENSMUSG00000000001.4  920                                                 \n",
       "ENSMUSG00000000003.15   0                                                 \n",
       "ENSMUSG00000000028.15  29                                                 \n",
       "ENSMUSG00000000031.16   5                                                 \n",
       "ENSMUSG00000000037.16  13                                                 \n",
       "ENSMUSG00000000049.11  17                                                 "
      ]
     },
     "metadata": {},
     "output_type": "display_data"
    }
   ],
   "source": [
    "#read table (RNA_seq)\n",
    "datExpr = read.csv(\"countMatrix.csv\", row.name=1, sep=\",\", header = T, check.names = FALSE)\n",
    "head(datExpr)"
   ]
  },
  {
   "cell_type": "markdown",
   "metadata": {},
   "source": [
    "For each comparison, you need to repeat this part\n",
    "\n",
    "## Subset data\n",
    "\n",
    "if you want to only consider subset of samples instead of whole you should remove those samples from count matrix\n",
    "In this part of the code, you will keep the information about those samples that you care about it!"
   ]
  },
  {
   "cell_type": "code",
   "execution_count": 2,
   "metadata": {},
   "outputs": [
    {
     "data": {
      "text/html": [
       "<table>\n",
       "<caption>A data.frame: 6 x 5</caption>\n",
       "<thead>\n",
       "\t<tr><th></th><th scope=col>Time.point</th><th scope=col>Tissue</th><th scope=col>Sex</th><th scope=col>Group</th><th scope=col>keep</th></tr>\n",
       "\t<tr><th></th><th scope=col>&lt;chr&gt;</th><th scope=col>&lt;chr&gt;</th><th scope=col>&lt;chr&gt;</th><th scope=col>&lt;chr&gt;</th><th scope=col>&lt;lgl&gt;</th></tr>\n",
       "</thead>\n",
       "<tbody>\n",
       "\t<tr><th scope=row>12mo_hipp_F_5xFADHEMI_11932_rsem.genes.results</th><td>12mo</td><td>hipp</td><td>F</td><td>5xFADHEMI       </td><td>FALSE</td></tr>\n",
       "\t<tr><th scope=row>12mo_hipp_M_5xFADHEMI:SPI1HO_12188_rsem.genes.results</th><td>12mo</td><td>hipp</td><td>M</td><td>5xFADHEMI:SPI1HO</td><td>FALSE</td></tr>\n",
       "\t<tr><th scope=row>4mo_hipp_F_5xFADWT:SPI1HO_13262_rsem.genes.results</th><td>4mo </td><td>hipp</td><td>F</td><td>5xFADWT:SPI1HO  </td><td>FALSE</td></tr>\n",
       "\t<tr><th scope=row>12mo_hipp_F_5xFADWT_11643_rsem.genes.results</th><td>12mo</td><td>hipp</td><td>F</td><td>5xFADWT         </td><td>FALSE</td></tr>\n",
       "\t<tr><th scope=row>12mo_hipp_F_5xFADWT:SPI1HO_12194_rsem.genes.results</th><td>12mo</td><td>hipp</td><td>F</td><td>5xFADWT:SPI1HO  </td><td>FALSE</td></tr>\n",
       "\t<tr><th scope=row>12mo_hipp_F_5xFADWT_11412_rsem.genes.results</th><td>12mo</td><td>hipp</td><td>F</td><td>5xFADWT         </td><td>FALSE</td></tr>\n",
       "</tbody>\n",
       "</table>\n"
      ],
      "text/latex": [
       "A data.frame: 6 x 5\n",
       "\\begin{tabular}{r|lllll}\n",
       "  & Time.point & Tissue & Sex & Group & keep\\\\\n",
       "  & <chr> & <chr> & <chr> & <chr> & <lgl>\\\\\n",
       "\\hline\n",
       "\t12mo\\_hipp\\_F\\_5xFADHEMI\\_11932\\_rsem.genes.results & 12mo & hipp & F & 5xFADHEMI        & FALSE\\\\\n",
       "\t12mo\\_hipp\\_M\\_5xFADHEMI:SPI1HO\\_12188\\_rsem.genes.results & 12mo & hipp & M & 5xFADHEMI:SPI1HO & FALSE\\\\\n",
       "\t4mo\\_hipp\\_F\\_5xFADWT:SPI1HO\\_13262\\_rsem.genes.results & 4mo  & hipp & F & 5xFADWT:SPI1HO   & FALSE\\\\\n",
       "\t12mo\\_hipp\\_F\\_5xFADWT\\_11643\\_rsem.genes.results & 12mo & hipp & F & 5xFADWT          & FALSE\\\\\n",
       "\t12mo\\_hipp\\_F\\_5xFADWT:SPI1HO\\_12194\\_rsem.genes.results & 12mo & hipp & F & 5xFADWT:SPI1HO   & FALSE\\\\\n",
       "\t12mo\\_hipp\\_F\\_5xFADWT\\_11412\\_rsem.genes.results & 12mo & hipp & F & 5xFADWT          & FALSE\\\\\n",
       "\\end{tabular}\n"
      ],
      "text/markdown": [
       "\n",
       "A data.frame: 6 x 5\n",
       "\n",
       "| <!--/--> | Time.point &lt;chr&gt; | Tissue &lt;chr&gt; | Sex &lt;chr&gt; | Group &lt;chr&gt; | keep &lt;lgl&gt; |\n",
       "|---|---|---|---|---|---|\n",
       "| 12mo_hipp_F_5xFADHEMI_11932_rsem.genes.results | 12mo | hipp | F | 5xFADHEMI        | FALSE |\n",
       "| 12mo_hipp_M_5xFADHEMI:SPI1HO_12188_rsem.genes.results | 12mo | hipp | M | 5xFADHEMI:SPI1HO | FALSE |\n",
       "| 4mo_hipp_F_5xFADWT:SPI1HO_13262_rsem.genes.results | 4mo  | hipp | F | 5xFADWT:SPI1HO   | FALSE |\n",
       "| 12mo_hipp_F_5xFADWT_11643_rsem.genes.results | 12mo | hipp | F | 5xFADWT          | FALSE |\n",
       "| 12mo_hipp_F_5xFADWT:SPI1HO_12194_rsem.genes.results | 12mo | hipp | F | 5xFADWT:SPI1HO   | FALSE |\n",
       "| 12mo_hipp_F_5xFADWT_11412_rsem.genes.results | 12mo | hipp | F | 5xFADWT          | FALSE |\n",
       "\n"
      ],
      "text/plain": [
       "                                                      Time.point Tissue Sex\n",
       "12mo_hipp_F_5xFADHEMI_11932_rsem.genes.results        12mo       hipp   F  \n",
       "12mo_hipp_M_5xFADHEMI:SPI1HO_12188_rsem.genes.results 12mo       hipp   M  \n",
       "4mo_hipp_F_5xFADWT:SPI1HO_13262_rsem.genes.results    4mo        hipp   F  \n",
       "12mo_hipp_F_5xFADWT_11643_rsem.genes.results          12mo       hipp   F  \n",
       "12mo_hipp_F_5xFADWT:SPI1HO_12194_rsem.genes.results   12mo       hipp   F  \n",
       "12mo_hipp_F_5xFADWT_11412_rsem.genes.results          12mo       hipp   F  \n",
       "                                                      Group            keep \n",
       "12mo_hipp_F_5xFADHEMI_11932_rsem.genes.results        5xFADHEMI        FALSE\n",
       "12mo_hipp_M_5xFADHEMI:SPI1HO_12188_rsem.genes.results 5xFADHEMI:SPI1HO FALSE\n",
       "4mo_hipp_F_5xFADWT:SPI1HO_13262_rsem.genes.results    5xFADWT:SPI1HO   FALSE\n",
       "12mo_hipp_F_5xFADWT_11643_rsem.genes.results          5xFADWT          FALSE\n",
       "12mo_hipp_F_5xFADWT:SPI1HO_12194_rsem.genes.results   5xFADWT:SPI1HO   FALSE\n",
       "12mo_hipp_F_5xFADWT_11412_rsem.genes.results          5xFADWT          FALSE"
      ]
     },
     "metadata": {},
     "output_type": "display_data"
    }
   ],
   "source": [
    "datTraits = read.csv(\"experimentList.csv\", row.name=1, sep=\",\", header = T)\n",
    "datTraits$keep = FALSE\n",
    "head(datTraits)"
   ]
  },
  {
   "cell_type": "code",
   "execution_count": 3,
   "metadata": {},
   "outputs": [],
   "source": [
    "## you should cahnge column name and keep variable based on your comparison you want to do\n",
    "## if you need to do filtering in more than one columns you should copy and pase this part of the code\n",
    "column_name = 'Time.point'\n",
    "keep = c(\"4mo\")\n",
    "for (i in c(1:dim(datTraits)[1])){\n",
    "  if (datTraits[i, column_name] %in% keep){\n",
    "      datTraits[i, \"keep\"] = TRUE\n",
    "  }\n",
    "}\n",
    "datTraits_selected = datTraits[datTraits$keep, ]\n",
    "column_name = 'Group'\n",
    "keep = c(\"5xFADHEMI:SPI1HO\", \"5xFADWT:SPI1HO\")\n",
    "for (i in c(1:dim(datTraits_selected)[1])){\n",
    "  if (datTraits_selected[i, column_name] %in% keep){\n",
    "      datTraits_selected[i, \"keep\"] = TRUE\n",
    "  }\n",
    "}"
   ]
  },
  {
   "cell_type": "code",
   "execution_count": 6,
   "metadata": {},
   "outputs": [],
   "source": [
    "keep = datTraits_selected[datTraits_selected$keep, ]\n",
    "datExpr_selected = datExpr[, rownames(keep)]"
   ]
  },
  {
   "cell_type": "markdown",
   "metadata": {},
   "source": [
    "## Define group\n",
    "\n",
    "after you get your data it's time to define the group which is bassically categorize the parameter you want to investigate by doing DEG\n",
    "here you need to define which parameter you want to investigte"
   ]
  },
  {
   "cell_type": "code",
   "execution_count": 7,
   "metadata": {},
   "outputs": [],
   "source": [
    "parameter = \"Group\"\n",
    "options = unique(keep[,parameter])\n",
    "groups = rep(0, dim(datExpr_selected)[2])\n",
    "for (i in c(1:dim(datExpr_selected)[2])) {\n",
    "  if (keep[i,parameter] == options[1]){\n",
    "    groups[i] = 1\n",
    "  }\n",
    "  if (keep[i,parameter] == options[2]){\n",
    "    groups[i] = 2\n",
    "  }\n",
    "}"
   ]
  },
  {
   "cell_type": "markdown",
   "metadata": {},
   "source": [
    "## Running DEG using edgR\n",
    "\n",
    "Now we have everythings, we only need to run it."
   ]
  },
  {
   "cell_type": "code",
   "execution_count": 8,
   "metadata": {},
   "outputs": [],
   "source": [
    "y = DGEList(counts = datExpr_selected, group=groups)\n",
    "y = calcNormFactors(y)\n",
    "design = model.matrix(~groups)\n",
    "y = estimateDisp(y, design)\n",
    "\n",
    "keep = filterByExpr(y)\n",
    "y = y[keep, , keep.lib.sizes=FALSE]\n",
    "\n",
    "#Testing for DE Genes\n",
    "et = exactTest(y)\n",
    "\n",
    "#extract table from the exact test( here is where we know if they are DE or not)\n",
    "et_out = (topTags(et, n=Inf, adjust.method = \"BH\"))\n",
    "et = et_out$table"
   ]
  },
  {
   "cell_type": "code",
   "execution_count": 9,
   "metadata": {},
   "outputs": [
    {
     "data": {
      "text/plain": [
       "\n",
       " Down    No    Up \n",
       "    1 16281     2 "
      ]
     },
     "metadata": {},
     "output_type": "display_data"
    }
   ],
   "source": [
    "# label DE genes\n",
    "# you can change therosholds base on your data!\n",
    "et$DE = \"\"\n",
    "et$DE[et$FDR < 0.05 & et$logFC > 0 ] = \"Up\"\n",
    "et$DE[et$FDR < 0.05 & et$logFC < 0 ] = \"Down\"\n",
    "et$DE[ et$DE == \"\" ] = \"No\"\n",
    "\n",
    "table(et$DE)"
   ]
  },
  {
   "cell_type": "markdown",
   "metadata": {},
   "source": [
    "## convert gene id to gene name\n",
    "if you want to have gene name as well, you should run below chunk of code and if not just skip this part."
   ]
  },
  {
   "cell_type": "code",
   "execution_count": 14,
   "metadata": {},
   "outputs": [],
   "source": [
    "et$gene_name = rownames(et)\n",
    "\n",
    "#read gene list to convert gene ID to gene list\n",
    "annot = read.table(\"genelist.csv\", sep=\",\", header = T)\n",
    "\n",
    "## convert gene ID to gene Name\n",
    "for (i in c(1:dim(et)[1])){\n",
    "  et$gene_name[i] = annot$gene_name[which(et$gene_name[i] == annot$gene_id)]\n",
    "}"
   ]
  },
  {
   "cell_type": "code",
   "execution_count": 46,
   "metadata": {},
   "outputs": [],
   "source": [
    "# save table\n",
    "write.table(et, \"DEG/table_DEG_4mon_5xFADHEMI:SPI1HO_SPI1HO.tsv\", sep=\"\\t\", row.names = F, quote = F)"
   ]
  },
  {
   "cell_type": "markdown",
   "metadata": {},
   "source": [
    "## volcano plot\n",
    "\n",
    "There is only one step left! plotting the results\n",
    "if you change the default threshold you need to change it here as well!\n",
    "For doing that `geom_vline` and `geom_hline` function"
   ]
  },
  {
   "cell_type": "code",
   "execution_count": 47,
   "metadata": {},
   "outputs": [
    {
     "name": "stderr",
     "output_type": "stream",
     "text": [
      "Warning message:\n",
      "\"ggrepel: 1708 unlabeled data points (too many overlaps). Consider increasing max.overlaps\"\n"
     ]
    },
    {
     "data": {
      "text/html": [
       "<strong>png:</strong> 2"
      ],
      "text/latex": [
       "\\textbf{png:} 2"
      ],
      "text/markdown": [
       "**png:** 2"
      ],
      "text/plain": [
       "png \n",
       "  2 "
      ]
     },
     "metadata": {},
     "output_type": "display_data"
    },
    {
     "data": {
      "text/html": [
       "<strong>null device:</strong> 1"
      ],
      "text/latex": [
       "\\textbf{null device:} 1"
      ],
      "text/markdown": [
       "**null device:** 1"
      ],
      "text/plain": [
       "null device \n",
       "          1 "
      ]
     },
     "metadata": {},
     "output_type": "display_data"
    }
   ],
   "source": [
    "et$label = et$gene_name\n",
    "for (i in c(1:dim(et)[1])) {\n",
    "  if (et$DE[i] == \"No\") {\n",
    "    et$label[i] = \"\"\n",
    "  }\n",
    "}\n",
    "\n",
    "pdf(paste0(\"DEG/plot_DEG_4mon_5xFADHEMI:SPI1HO_SPI1HO.pdf\"), width = 6, height = 6)\n",
    "ggplot(data=et, aes(x=logFC, y=-log10(FDR), col=DE, label=label)) +\n",
    "  geom_point() + \n",
    "  theme_minimal() +\n",
    "  geom_text_repel() +\n",
    "  scale_color_manual(values=c(\"blue\", \"black\", \"red\")) +\n",
    "  geom_vline(xintercept=c(-0, 0), col=\"red\") +\n",
    "  geom_hline(yintercept=-log10(0.05), col=\"red\")\n",
    "dev.off();\n",
    "dev.off();"
   ]
  },
  {
   "cell_type": "code",
   "execution_count": null,
   "metadata": {},
   "outputs": [],
   "source": []
  }
 ],
 "metadata": {
  "kernelspec": {
   "display_name": "R",
   "language": "R",
   "name": "ir"
  },
  "language_info": {
   "codemirror_mode": "r",
   "file_extension": ".r",
   "mimetype": "text/x-r-source",
   "name": "R",
   "pygments_lexer": "r",
   "version": "4.0.2"
  }
 },
 "nbformat": 4,
 "nbformat_minor": 4
}
