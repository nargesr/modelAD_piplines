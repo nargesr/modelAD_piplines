{
 "cells": [
  {
   "cell_type": "markdown",
   "id": "4f583e7a",
   "metadata": {
    "slideshow": {
     "slide_type": ""
    },
    "tags": []
   },
   "source": [
    "\n",
    "\n",
    "In this notebook, I will show first how to concate the TPM and counts across samples and then show how to perform DEG and generate SWAN reports.\n",
    "\n",
    "## Load library"
   ]
  },
  {
   "cell_type": "code",
   "execution_count": 9,
   "id": "446a99fb",
   "metadata": {
    "slideshow": {
     "slide_type": ""
    },
    "tags": []
   },
   "outputs": [],
   "source": [
    "import pandas as pd\n",
    "import numpy as np\n",
    "import anndata as ad\n",
    "import scanpy as sc\n",
    "import swan_vis as swan\n",
    "\n",
    "from utils import *\n",
    "\n",
    "import warnings\n",
    "warnings.filterwarnings(\"ignore\")"
   ]
  },
  {
   "cell_type": "markdown",
   "id": "65acb697-5a83-43aa-add5-7c2bf1ae8fbb",
   "metadata": {},
   "source": [
    "## Concate count and tpm matrices"
   ]
  },
  {
   "cell_type": "code",
   "execution_count": 35,
   "id": "d22b7735",
   "metadata": {},
   "outputs": [],
   "source": [
    "samples = pd.read_csv(\"sample_name.txt\", header=None)[0].tolist()\n",
    "\n",
    "metadata_sample_path = \"sample_metadata.csv\"\n",
    "\n",
    "adata_count = None\n",
    "adata_tpm = None\n",
    "\n",
    "for sample in samples:\n",
    "    transcript = pd.read_csv(f'output_{sample}/transcripts.txt', header=None, index_col=0)\n",
    "    transcript.index.names = ['']\n",
    "    counts = sc.read_mtx(f'output_{sample}/matrix.abundance.mtx', dtype='float32')\n",
    "    counts.obs.index = [sample]\n",
    "    counts.var.index = transcript.index.tolist()\n",
    "    \n",
    "    tpm = sc.read_mtx(f'output_{sample}/matrix.abundance.tpm.mtx', dtype='float32')\n",
    "    tpm.obs.index = [sample]\n",
    "    tpm.var.index = transcript.index.tolist()\n",
    "\n",
    "    if adata_count is None:\n",
    "        adata_count = counts.copy()\n",
    "        adata_tpm = tpm.copy()\n",
    "        continue\n",
    "\n",
    "    adata_count = ad.concat([adata_count, counts], axis=0)\n",
    "    adata_count.var = pd.concat([adata_count.var, transcript], axis=1).loc[adata_count.var.index, :]\n",
    "\n",
    "    adata_tpm = ad.concat([adata_tpm, tpm], axis=0)\n",
    "    adata_tpm.var = pd.concat([adata_tpm.var, transcript], axis=1).loc[adata_tpm.var.index, :]\n",
    "\n",
    "metadata_sample = pd.read_csv(metadata_sample_path)\n",
    "metadata_sample.index = metadata_sample['Sample Name'].values\n",
    "\n",
    "adata_count.obs = pd.concat([adata_count.obs, metadata_sample], axis=1)\n",
    "adata_tpm.obs = pd.concat([adata_tpm.obs, metadata_sample], axis=1)\n",
    "\n",
    "\n",
    "adata_count.write(filename=\"transcript_exp_count.h5ad\")\n",
    "adata_tpm.write(filename=\"transcript_exp_tpm.h5ad\")"
   ]
  },
  {
   "cell_type": "markdown",
   "id": "ffae5f0d-3866-4ba2-8c39-6195e61be95d",
   "metadata": {},
   "source": [
    "## Differential  Gene Expression(DGE) and Differential Isoform Expression(DIE)"
   ]
  },
  {
   "cell_type": "code",
   "execution_count": null,
   "id": "cd69195d-d17c-4fa5-9c92-0e9fdc60714f",
   "metadata": {},
   "outputs": [],
   "source": [
    "swan_output = \"swan/swan_graph.p\"\n",
    "sg = swan.read(swan_output)\n",
    "\n",
    "filtering = {'age': [\"4_months\"], #c(\"12mo\"),\n",
    "             'sex': [\"F\"], #c(\"M\"),\n",
    "             'genotype': ['5xFAD-HEMI', '5xFAD-HEMI_Clu-h2kbKI-HO']}\n",
    "fname = f\"DEG/{'_'.join(filtering['genotype'])}_{'_'.join(filtering['age'])}_{'_'.join(filtering['sex'])}\"\n",
    "\n",
    "dds = run_deseq1(sg,\n",
    "           how='gene',\n",
    "           obs_filtering=filtering,\n",
    "           obs_condition='genotype',\n",
    "           l2fc_thresh=0, \n",
    "           adj_p_thresh=0.05,\n",
    "           ofile=fname)"
   ]
  },
  {
   "cell_type": "markdown",
   "id": "463c6654-24bb-4597-8a02-7b207e4cff46",
   "metadata": {},
   "source": [
    "## SWAN Report\n",
    "\n",
    "In this section, I show how to create a swan object and how you can make a SWAN report for interested genes."
   ]
  },
  {
   "cell_type": "code",
   "execution_count": null,
   "id": "bf2743bc-5662-4f50-a944-faf4d12fe7a4",
   "metadata": {},
   "outputs": [],
   "source": [
    "study = \"ad003\"\n",
    "\n",
    "gtf_cerberus = [\"5xFAD-WT_Clu-h2kbKI-HO_F_4_months_HC_4.gtf\", \n",
    "                \"5xFAD-HEMI_Clu-h2kbKI-HO_F_4_months_HC_2.gtf\", \n",
    "                \"5xFAD-HEMI_F_4_months_HC_1.gtf\", \n",
    "                \"5xFAD-WT_F_4_months_HC_3.gtf\"]\n",
    "ab_cerberus = [\"5xFAD-HEMI_Clu-h2kbKI-HO_F_4_months_HC_2_abundance.tsv\", \n",
    "               \"5xFAD-HEMI_F_4_months_HC_1_abundance.tsv\", \n",
    "               \"5xFAD-WT_Clu-h2kbKI-HO_F_4_months_HC_4_abundance.tsv\", \n",
    "               \"5xFAD-WT_F_4_months_HC_3_abundance.tsv\"]\n",
    "\n",
    "\n",
    "annot = \"ref/cerberus.gtf\"\n",
    "meta = \"swan/meta.tsv\"\n",
    "swan_output = \"swan/swan_graph\"\n",
    "\n",
    "create_swan_obj(study, \n",
    "                    gtf_cerberus,\n",
    "                    ab_cerberus,\n",
    "                    annot,\n",
    "                    meta,\n",
    "                    swan_output)\n",
    "\n",
    "make_reports('DES')"
   ]
  },
  {
   "cell_type": "code",
   "execution_count": null,
   "id": "c0f97df9-c48e-4631-9952-669fcbc7e398",
   "metadata": {},
   "outputs": [],
   "source": []
  },
  {
   "cell_type": "code",
   "execution_count": null,
   "id": "43769f61-5df1-427d-afb9-46d6e0b9a592",
   "metadata": {},
   "outputs": [],
   "source": []
  }
 ],
 "metadata": {
  "kernelspec": {
   "display_name": "Python 3 (ipykernel)",
   "language": "python",
   "name": "python3"
  },
  "language_info": {
   "codemirror_mode": {
    "name": "ipython",
    "version": 3
   },
   "file_extension": ".py",
   "mimetype": "text/x-python",
   "name": "python",
   "nbconvert_exporter": "python",
   "pygments_lexer": "ipython3",
   "version": "3.10.14"
  }
 },
 "nbformat": 4,
 "nbformat_minor": 5
}
