{
 "cells": [
  {
   "cell_type": "markdown",
   "id": "4f583e7a",
   "metadata": {
    "slideshow": {
     "slide_type": ""
    },
    "tags": []
   },
   "source": [
    "# Visualize transcriptomes using SWAN\n",
    "\n",
    "In this notebook, I will show how to generate SWAN reports to visualize long-read transcriptomes, find isoform-switching genes, and discover novel exon skipping and intron retention events.\n",
    "\n",
    "**note**: Since SWAN_vis works with pandas < 2.0, we should install a separate environment for this part of the analysis.\n",
    "\n",
    "```\n",
    "conda env create -f environment.yml\n",
    "```\n",
    "\n",
    "Author: Narges Rezaie\n",
    "\n",
    "## Preparing SWAN object"
   ]
  },
  {
   "cell_type": "code",
   "execution_count": 1,
   "id": "446a99fb",
   "metadata": {
    "slideshow": {
     "slide_type": ""
    },
    "tags": []
   },
   "outputs": [],
   "source": [
    "## Load library\n",
    "\n",
    "import pandas as pd\n",
    "import numpy as np\n",
    "import anndata as ad\n",
    "import swan_vis as swan\n",
    "\n",
    "import warnings\n",
    "warnings.filterwarnings(\"ignore\")"
   ]
  },
  {
   "cell_type": "markdown",
   "id": "71a412cf-3472-4230-8a43-f305f503df45",
   "metadata": {},
   "source": [
    "To create a SWAN object, you need two different files:\n",
    "\n",
    "1. GTF file (`gtf`): It can be a [Gencode GTF file](https://www.gencodegenes.org/) if there is no modification needed in the previous step(s).\n",
    "2. Transcript expression h5ad file (`tpm_adata`): transcript level TPM matrix generated in the previous step.\n",
    "\n",
    "Based on the mouse model, you may need to change the value of these two parameters.\n",
    "\n",
    "**note**: you may also need to adjust the metadata based on the data you have."
   ]
  },
  {
   "cell_type": "code",
   "execution_count": 2,
   "id": "d22b7735",
   "metadata": {},
   "outputs": [
    {
     "name": "stdout",
     "output_type": "stream",
     "text": [
      "\n",
      "Adding annotation to the SwanGraph\n",
      "\n",
      "Adding abundance for datasets ad003_11616_lig-blk, ad003_11617_lig-blk, ad003_11625_lig-blk, ad003_11627_lig-blk, ad003_11628_lig-blk... (and 7 more) to SwanGraph\n",
      "Calculating TPM...\n",
      "Calculating PI...\n",
      "Calculating edge usage...\n",
      "Calculating TSS usage...\n",
      "Calculating TES usage...\n",
      "Saving graph as SWAN.p\n"
     ]
    }
   ],
   "source": [
    "## Create SWAN pickle file\n",
    "\n",
    "gtf = '../data/gencode.vM32.chr_patch_hapl_scaff.annotation.gtf'\n",
    "tpm_adata = '../data/transcript_exp_tpm.h5ad'\n",
    "\n",
    "\n",
    "sg = swan.SwanGraph()\n",
    "\n",
    "sg.add_annotation(gtf)\n",
    "\n",
    "sg.add_adata(tpm_adata)\n",
    "\n",
    "sg.set_metadata_colors('Sex', {'F': 'green',\n",
    "                               'M': 'yellow'})\n",
    "sg.set_metadata_colors('Age', {'4 months': 'thistle'})\n",
    "sg.set_metadata_colors('Tissue', {'hippocamous': 'red'})\n",
    "sg.set_metadata_colors('Genotype', {'5xCLU-h2kbKI-HO': '#FFB6C1', \n",
    "                                    '5xFADHEMI':'#FF8DA1', \n",
    "                                    '5xFADWT': '#FF7782', \n",
    "                                    'CLU-h2kbKI-HO': '#e75480'})\n",
    "\n",
    "sg.save_graph(\"SWAN\")"
   ]
  },
  {
   "cell_type": "markdown",
   "id": "97148713-0073-456d-8fae-76d19405dd4f",
   "metadata": {},
   "source": [
    "Once you create the SWAN object, you can ask for a swan report for given list of gene(s).\n",
    "\n",
    "To learn more about how `gen_report()` works, please look at [here](https://freese.gitbook.io/swan/code-documentation/swangraph).\n",
    "\n",
    "**note**: You need to make sure the gene name matches exactly what is in the GTF file.\n",
    "**note**: You also need to modify the `datasets` and `metadata_cols`, based on the dataset you have."
   ]
  },
  {
   "cell_type": "code",
   "execution_count": 6,
   "id": "a769e033-a0c4-4567-b9e5-5d041256eba1",
   "metadata": {},
   "outputs": [
    {
     "name": "stdout",
     "output_type": "stream",
     "text": [
      "Read in graph from SWAN.p\n",
      "\n",
      "Plotting transcripts for ENSMUSG00000002985\n",
      "Saving transcript path graph for ENSMUST00000174064.9 as figures/Apoe_novel_ENSMUST00000174064.9_path.png\n",
      "Saving transcript path graph for ENSMUST00000174355.8 as figures/Apoe_novel_ENSMUST00000174355.8_path.png\n",
      "Saving transcript path graph for ENSMUST00000173739.8 as figures/Apoe_novel_ENSMUST00000173739.8_path.png\n",
      "Saving transcript path graph for ENSMUST00000167646.9 as figures/Apoe_novel_ENSMUST00000167646.9_path.png\n",
      "Saving transcript path graph for ENSMUST00000174144.8 as figures/Apoe_novel_ENSMUST00000174144.8_path.png\n",
      "Saving transcript path graph for ENSMUST00000003066.16 as figures/Apoe_novel_ENSMUST00000003066.16_path.png\n",
      "Saving transcript path graph for ENSMUST00000172983.8 as figures/Apoe_novel_ENSMUST00000172983.8_path.png\n",
      "Generating report for ENSMUSG00000002985\n"
     ]
    }
   ],
   "source": [
    "# create swan report for a given gene\n",
    "sg = swan.read(\"SWAN.p\")\n",
    "\n",
    "gene_names = [\"Apoe\"]\n",
    "\n",
    "for gene_name in gene_names:\n",
    "    sg.gen_report(gene_name,\n",
    "                  f'figures/{gene_name}',\n",
    "                  datasets = {'Genotype': ['5xFADHEMI', '5xCLU-h2kbKI-HO', '5xFADWT', 'CLU-h2kbKI-HO']},\n",
    "                  metadata_cols=['Age', 'Tissue', 'Sex', 'Genotype'],\n",
    "                  cmap='viridis',\n",
    "                  transcript_col='tname',\n",
    "                  novelty=True,\n",
    "                  indicate_novel=True,\n",
    "                  layer='tpm')"
   ]
  }
 ],
 "metadata": {
  "kernelspec": {
   "display_name": "Python 3 (ipykernel)",
   "language": "python",
   "name": "python3"
  },
  "language_info": {
   "codemirror_mode": {
    "name": "ipython",
    "version": 3
   },
   "file_extension": ".py",
   "mimetype": "text/x-python",
   "name": "python",
   "nbconvert_exporter": "python",
   "pygments_lexer": "ipython3",
   "version": "3.9.20"
  }
 },
 "nbformat": 4,
 "nbformat_minor": 5
}
