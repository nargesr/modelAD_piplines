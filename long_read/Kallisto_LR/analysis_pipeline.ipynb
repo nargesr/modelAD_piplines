{
 "cells": [
  {
   "cell_type": "markdown",
   "id": "4f583e7a",
   "metadata": {
    "slideshow": {
     "slide_type": ""
    },
    "tags": []
   },
   "source": [
    "## Load library"
   ]
  },
  {
   "cell_type": "code",
   "execution_count": 9,
   "id": "446a99fb",
   "metadata": {
    "slideshow": {
     "slide_type": ""
    },
    "tags": []
   },
   "outputs": [],
   "source": [
    "import pandas as pd\n",
    "import numpy as np\n",
    "import anndata as ad\n",
    "import scanpy as sc\n",
    "\n",
    "import warnings\n",
    "warnings.filterwarnings(\"ignore\")"
   ]
  },
  {
   "cell_type": "code",
   "execution_count": 35,
   "id": "11063810",
   "metadata": {},
   "outputs": [],
   "source": [
    "samples = pd.read_csv(\"sample_name.txt\", header=None)[0].tolist()\n",
    "\n",
    "metadata_sample_path = \"sample_metadata.csv\"\n",
    "\n",
    "adata_count = None\n",
    "adata_tpm = None\n",
    "\n",
    "for sample in samples:\n",
    "    transcript = pd.read_csv(f'output_{sample}/transcripts.txt', header=None, index_col=0)\n",
    "    transcript.index.names = ['']\n",
    "    counts = sc.read_mtx(f'output_{sample}/matrix.abundance.mtx', dtype='float32')\n",
    "    counts.obs.index = [sample]\n",
    "    counts.var.index = transcript.index.tolist()\n",
    "    \n",
    "    tpm = sc.read_mtx(f'output_{sample}/matrix.abundance.tpm.mtx', dtype='float32')\n",
    "    tpm.obs.index = [sample]\n",
    "    tpm.var.index = transcript.index.tolist()\n",
    "\n",
    "    if adata_count is None:\n",
    "        adata_count = counts.copy()\n",
    "        adata_tpm = tpm.copy()\n",
    "        continue\n",
    "\n",
    "    adata_count = ad.concat([adata_count, counts], axis=0)\n",
    "    adata_count.var = pd.concat([adata_count.var, transcript], axis=1).loc[adata_count.var.index, :]\n",
    "\n",
    "    adata_tpm = ad.concat([adata_tpm, tpm], axis=0)\n",
    "    adata_tpm.var = pd.concat([adata_tpm.var, transcript], axis=1).loc[adata_tpm.var.index, :]\n",
    "\n",
    "metadata_sample = pd.read_csv(metadata_sample_path)\n",
    "metadata_sample.index = metadata_sample['Sample Name'].values\n",
    "\n",
    "adata_count.obs = pd.concat([adata_count.obs, metadata_sample], axis=1)\n",
    "adata_tpm.obs = pd.concat([adata_tpm.obs, metadata_sample], axis=1)\n",
    "\n",
    "\n",
    "adata_count.write(filename=\"transcript_exp_count.h5ad\")\n",
    "adata_tpm.write(filename=\"transcript_exp_tpm.h5ad\")"
   ]
  }
 ],
 "metadata": {
  "kernelspec": {
   "display_name": "Python 3 (ipykernel)",
   "language": "python",
   "name": "python3"
  },
  "language_info": {
   "codemirror_mode": {
    "name": "ipython",
    "version": 3
   },
   "file_extension": ".py",
   "mimetype": "text/x-python",
   "name": "python",
   "nbconvert_exporter": "python",
   "pygments_lexer": "ipython3",
   "version": "3.10.4"
  }
 },
 "nbformat": 4,
 "nbformat_minor": 5
}
