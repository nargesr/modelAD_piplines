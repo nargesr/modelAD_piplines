{
 "cells": [
  {
   "cell_type": "markdown",
   "id": "e02234a9-081d-499d-8238-376bd4d59d1d",
   "metadata": {},
   "source": [
    "In this notebook, I will show how to create a custom FASTA and GTF file, if you have chimeric/humanized gene.\n",
    "\n",
    "References I used for this tutorial.\n",
    "\n",
    "**Mouse**:\n",
    "\n",
    "- GTF link: [Gencode_vM32](https://ftp.ebi.ac.uk/pub/databases/gencode/Gencode_mouse/release_M32/gencode.vM32.chr_patch_hapl_scaff.annotation.gtf.gz)\n",
    "- Fasta link: [mm39](https://hgdownload.soe.ucsc.edu/goldenPath/mm39/bigZips/mm39.fa.gz)\n",
    "\n",
    "**Human**:\n",
    "\n",
    "- GTF link: [Gencode_v29](https://www.encodeproject.org/files/gencode.v29.primary_assembly.annotation_UCSC_names/@@download/gencode.v29.primary_assembly.annotation_UCSC_names.gtf.gz)\n",
    "- Fasta link: [GRCh38](https://www.encodeproject.org/files/GRCh38_no_alt_analysis_set_GCA_000001405.15/@@download/GRCh38_no_alt_analysis_set_GCA_000001405.15.fasta.gz)\n",
    "\n",
    "## Load library"
   ]
  },
  {
   "cell_type": "code",
   "execution_count": null,
   "id": "1a702047-56a8-4951-a79d-04b75defad82",
   "metadata": {},
   "outputs": [],
   "source": [
    "import AGEpy as age\n",
    "import pandas as pd"
   ]
  },
  {
   "cell_type": "markdown",
   "id": "803da8c0-5284-4faa-bcbd-cc31079396e5",
   "metadata": {},
   "source": [
    "## Create GTF file\n",
    "\n",
    "you need to extract the gene and transcript information for the given gene from the human GTF file, create a new chromosome, and add this information to the mouse GTF."
   ]
  },
  {
   "cell_type": "code",
   "execution_count": null,
   "id": "af80750c-db92-4c24-9677-1651b7cec743",
   "metadata": {},
   "outputs": [],
   "source": [
    "GTF = age.readGTF(\"gencode.vM32.chr_patch_hapl_scaff.annotation.gtf\")\n",
    "GTF = age.parseGTF(GTF)\n",
    "\n",
    "human_gtf = age.readGTF(\"gencode.v46.chr_patch_hapl_scaff.annotation.gtf\")\n",
    "human_gtf = age.parseGTF(human_gtf)\n",
    "\n",
    "APOE_gtf = human_gtf[human_gtf.gene_name == \"APOE\"]\n",
    "APOE_gtf = APOE_gtf[APOE_gtf.seqname == \"chr19\"]\n",
    "APOE_gtf.loc[:, 'seqname'] = \"chr20\"\n",
    "#APOE_gtf = APOE_gtf.with_columns(pl.col(\"seqname\").cast(pl.Categorical))\n",
    "\n",
    "MAPT_gtf = human_gtf[human_gtf.gene_name == \"MAPT\"]\n",
    "MAPT_gtf = human_gtf[human_gtf.seqname == \"chr17\"]\n",
    "MAPT_gtf.loc[:, 'seqname'] = \"chr21\"\n",
    "#MAPT_gtf = MAPT_gtf.with_columns(pl.col(\"seqname\").cast(pl.Categorical))\n",
    "\n",
    "mad1_gtf = pd.concat([GTF, APOE_gtf, MAPT_gtf], ignore_index=True)\n",
    "\n",
    "age.writeGTF(mad1_gtf, \"MAD1.gtf\")"
   ]
  },
  {
   "cell_type": "markdown",
   "id": "4a783c97-dd8a-4045-b0b0-082b4c41870d",
   "metadata": {},
   "source": [
    "## Create FASTA file\n",
    "\n",
    "you need to extract the sequence information for entire chromosome of the give gene from the human FASTA file, change the chromosome to match what you put for the GTF file.\n",
    "\n",
    "Once you have the custom FASTA file(s), you should concate them with the mouse FASTA file.\n",
    "\n",
    "```\n",
    "grep \"chr19\" hg38.fa > APOE.fa\n",
    "grep \"chr17\" hg38.fa > MAPT.fa\n",
    "\n",
    "sed -i 's/chr19/chr20/' APOE.fa\n",
    "sed -i 's/chr17/chr21/' APOE.fa\n",
    "\n",
    "cat mm39.fa APOE.fa MAPT.fa > MAD1.fa\n",
    "```"
   ]
  }
 ],
 "metadata": {
  "kernelspec": {
   "display_name": "Python 3 (ipykernel)",
   "language": "python",
   "name": "python3"
  },
  "language_info": {
   "codemirror_mode": {
    "name": "ipython",
    "version": 3
   },
   "file_extension": ".py",
   "mimetype": "text/x-python",
   "name": "python",
   "nbconvert_exporter": "python",
   "pygments_lexer": "ipython3",
   "version": "3.12.2"
  }
 },
 "nbformat": 4,
 "nbformat_minor": 5
}
