{
 "cells": [
  {
   "cell_type": "markdown",
   "id": "36ffea61",
   "metadata": {},
   "source": [
    "# short read signle nucleus/cell RNA_seq\n",
    "\n",
    "once you have your annData object, we can use scanpy and scrublet to preprocess main analysis our data inclusing\n",
    "1. Basic filtering\n",
    "2. Principal component analysis\n",
    "3. Computing the neighborhood graph\n",
    "4. Embedding the neighborhood graph\n",
    "5. Clustering the neighborhood graph"
   ]
  },
  {
   "cell_type": "code",
   "execution_count": 2,
   "id": "5a3365b2",
   "metadata": {},
   "outputs": [],
   "source": [
    "## import library\n",
    "import numpy as np\n",
    "import pandas as pd\n",
    "import scanpy as sc"
   ]
  },
  {
   "cell_type": "code",
   "execution_count": 3,
   "id": "1e26f28f",
   "metadata": {},
   "outputs": [
    {
     "name": "stderr",
     "output_type": "stream",
     "text": [
      "/Users/nargesrezaie/opt/anaconda3/lib/python3.10/site-packages/anndata/_core/anndata.py:121: ImplicitModificationWarning: Transforming to str index.\n",
      "  warnings.warn(\"Transforming to str index.\", ImplicitModificationWarning)\n"
     ]
    }
   ],
   "source": [
    "## Read data\n",
    "annData_name = \"kallisto/009_67A/counts_unfiltered_modified/adata.h5ad\"\n",
    "data = sc.read_h5ad(annData_name)"
   ]
  },
  {
   "cell_type": "code",
   "execution_count": 5,
   "id": "2c4dbef4",
   "metadata": {},
   "outputs": [
    {
     "data": {
      "text/html": [
       "<div>\n",
       "<style scoped>\n",
       "    .dataframe tbody tr th:only-of-type {\n",
       "        vertical-align: middle;\n",
       "    }\n",
       "\n",
       "    .dataframe tbody tr th {\n",
       "        vertical-align: top;\n",
       "    }\n",
       "\n",
       "    .dataframe thead th {\n",
       "        text-align: right;\n",
       "    }\n",
       "</style>\n",
       "<table border=\"1\" class=\"dataframe\">\n",
       "  <thead>\n",
       "    <tr style=\"text-align: right;\">\n",
       "      <th></th>\n",
       "    </tr>\n",
       "    <tr>\n",
       "      <th>barcode</th>\n",
       "    </tr>\n",
       "  </thead>\n",
       "  <tbody>\n",
       "    <tr>\n",
       "      <th>AAACATCGAAACATCGAATTCTGC</th>\n",
       "    </tr>\n",
       "    <tr>\n",
       "      <th>AAACATCGAAACATCGAATTTCTC</th>\n",
       "    </tr>\n",
       "    <tr>\n",
       "      <th>AAACATCGAAACATCGACATTCAT</th>\n",
       "    </tr>\n",
       "    <tr>\n",
       "      <th>AAACATCGAAACATCGACATTTAC</th>\n",
       "    </tr>\n",
       "    <tr>\n",
       "      <th>AAACATCGAAACATCGACATTTGG</th>\n",
       "    </tr>\n",
       "    <tr>\n",
       "      <th>...</th>\n",
       "    </tr>\n",
       "    <tr>\n",
       "      <th>TTCACGCATTCACGCATTACCTGC</th>\n",
       "    </tr>\n",
       "    <tr>\n",
       "      <th>TTCACGCATTCACGCATTATTCTG</th>\n",
       "    </tr>\n",
       "    <tr>\n",
       "      <th>TTCACGCATTCACGCATTCGCTAC</th>\n",
       "    </tr>\n",
       "    <tr>\n",
       "      <th>TTCACGCATTCACGCATTGGGAGA</th>\n",
       "    </tr>\n",
       "    <tr>\n",
       "      <th>TTCACGCATTCACGCATTGTCTTA</th>\n",
       "    </tr>\n",
       "  </tbody>\n",
       "</table>\n",
       "<p>884666 rows × 0 columns</p>\n",
       "</div>"
      ],
      "text/plain": [
       "Empty DataFrame\n",
       "Columns: []\n",
       "Index: [AAACATCGAAACATCGAATTCTGC, AAACATCGAAACATCGAATTTCTC, AAACATCGAAACATCGACATTCAT, AAACATCGAAACATCGACATTTAC, AAACATCGAAACATCGACATTTGG, AAACATCGAAACATCGACCCTTGC, AAACATCGAAACATCGACTATATA, AAACATCGAAACATCGACTATTGC, AAACATCGAAACATCGACTCCTGC, AAACATCGAAACATCGACTCGTAA, AAACATCGAAACATCGACTGCTCT, AAACATCGAAACATCGACTGGCTT, AAACATCGAAACATCGACTTAGCT, AAACATCGAAACATCGACTTCATC, AAACATCGAAACATCGACTTGCCT, AAACATCGAAACATCGACTTTACC, AAACATCGAAACATCGATAAGCTC, AAACATCGAAACATCGATCATTGC, AAACATCGAAACATCGATCCTTAC, AAACATCGAAACATCGATCTTAGG, AAACATCGAAACATCGATGCCCTT, AAACATCGAAACATCGATGCTGCT, AAACATCGAAACATCGATTAGGCT, AAACATCGAAACATCGATTCATGG, AAACATCGAAACATCGATTCTAGG, AAACATCGAAACATCGATTGGCTC, AAACATCGAAACATCGATTTGGCA, AAACATCGAAACATCGCAATCCTT, AAACATCGAAACATCGCACCTTTA, AAACATCGAAACATCGCACTTATC, AAACATCGAAACATCGCACTTTCA, AAACATCGAAACATCGCAGCCTTT, AAACATCGAAACATCGCATACTTC, AAACATCGAAACATCGCATGTCTC, AAACATCGAAACATCGCATTCCTA, AAACATCGAAACATCGCATTCTAC, AAACATCGAAACATCGCATTCTCA, AAACATCGAAACATCGCATTTACA, AAACATCGAAACATCGCATTTGGA, AAACATCGAAACATCGCCAATTCT, AAACATCGAAACATCGCCATTTGC, AAACATCGAAACATCGCCCAATTT, AAACATCGAAACATCGCCCTTATA, AAACATCGAAACATCGCCGTTCTA, AAACATCGAAACATCGCCTATATC, AAACATCGAAACATCGCCTCATTA, AAACATCGAAACATCGCCTGCATT, AAACATCGAAACATCGCCTGGTAT, AAACATCGAAACATCGCCTGTTGC, AAACATCGAAACATCGCCTTACAT, AAACATCGAAACATCGCCTTTGCA, AAACATCGAAACATCGCGCTCATT, AAACATCGAAACATCGCGTCTAGG, AAACATCGAAACATCGCTATCATC, AAACATCGAAACATCGCTATTTCA, AAACATCGAAACATCGCTCTAATC, AAACATCGAAACATCGCTCTATAC, AAACATCGAAACATCGCTCTGTGC, AAACATCGAAACATCGCTCTTAAC, AAACATCGAAACATCGCTGACTTC, AAACATCGAAACATCGCTGTCTCA, AAACATCGAAACATCGCTTATACC, AAACATCGAAACATCGCTTCATCA, AAACATCGAAACATCGCTTCTAAC, AAACATCGAAACATCGCTTTCAAC, AAACATCGAAACATCGGACCTTTC, AAACATCGAAACATCGGACTTTGC, AAACATCGAAACATCGGAGCACAA, AAACATCGAAACATCGGATTTGGC, AAACATCGAAACATCGGCCTATCT, AAACATCGAAACATCGGCCTCTAT, AAACATCGAAACATCGGCCTTTCA, AAACATCGAAACATCGGCTATCAT, AAACATCGAAACATCGGCTCTACT, AAACATCGAAACATCGGCTTCATA, AAACATCGAAACATCGGTTACGTA, AAACATCGAAACATCGGTTCAACA, AAACATCGAAACATCGTAAATATC, AAACATCGAAACATCGTACTCGAA, AAACATCGAAACATCGTCACTTTA, AAACATCGAAACATCGTCATCCTG, AAACATCGAAACATCGTCATGCTC, AAACATCGAAACATCGTCATTGCA, AAACATCGAAACATCGTCTAGGCT, AAACATCGAAACATCGTCTATTAC, AAACATCGAAACATCGTCTCATGC, AAACATCGAAACATCGTCTCTAGC, AAACATCGAAACATCGTGCTTGGG, AAACATCGAAACATCGTGGTATAC, AAACATCGAAACATCGTTACCTGC, AAACATCGAAACATCGTTATTCTG, AAACATCGAAACATCGTTCGCTAC, AAACATCGAAACATCGTTGGGAGA, AAACATCGAAACATCGTTGTCTTA, AAACATCGAACAACCAAATTCTGC, AAACATCGAACAACCAAATTTCTC, AAACATCGAACAACCAACACCTTT, AAACATCGAACAACCAACATTCAT, AAACATCGAACAACCAACATTTAC, AAACATCGAACAACCAACATTTGG, ...]\n",
       "\n",
       "[884666 rows x 0 columns]"
      ]
     },
     "execution_count": 5,
     "metadata": {},
     "output_type": "execute_result"
    }
   ],
   "source": [
    "data.obs"
   ]
  },
  {
   "cell_type": "markdown",
   "id": "4a2a4440",
   "metadata": {},
   "source": [
    "### Basic filtering\n",
    "\n",
    "you should change min_genes and min_cells based on the dataset"
   ]
  },
  {
   "cell_type": "code",
   "execution_count": null,
   "id": "56cf753a",
   "metadata": {},
   "outputs": [],
   "source": [
    "min_genes = 200\n",
    "min_cells = 3\n",
    "\n",
    "sc.pp.filter_cells(adata, min_genes=min_genes)\n",
    "sc.pp.filter_genes(adata, min_cells=min_cells)"
   ]
  },
  {
   "cell_type": "markdown",
   "id": "b8630050",
   "metadata": {},
   "source": [
    "Calculate the percentage of mitocondria"
   ]
  },
  {
   "cell_type": "code",
   "execution_count": null,
   "id": "aac60747",
   "metadata": {},
   "outputs": [],
   "source": [
    "adata.var['mt'] = adata.var_names.str.startswith('MT-')  # annotate the group of mitochondrial genes as 'mt'\n",
    "sc.pp.calculate_qc_metrics(adata, qc_vars=['mt'], percent_top=None, log1p=False, inplace=True)"
   ]
  },
  {
   "cell_type": "code",
   "execution_count": null,
   "id": "a2806800",
   "metadata": {},
   "outputs": [],
   "source": []
  },
  {
   "cell_type": "code",
   "execution_count": null,
   "id": "7fd6a77d",
   "metadata": {},
   "outputs": [],
   "source": []
  },
  {
   "cell_type": "code",
   "execution_count": null,
   "id": "5c916e64",
   "metadata": {},
   "outputs": [],
   "source": []
  },
  {
   "cell_type": "code",
   "execution_count": null,
   "id": "40270568",
   "metadata": {},
   "outputs": [],
   "source": []
  },
  {
   "cell_type": "code",
   "execution_count": null,
   "id": "644e854c",
   "metadata": {},
   "outputs": [],
   "source": []
  },
  {
   "cell_type": "code",
   "execution_count": null,
   "id": "fd725530",
   "metadata": {},
   "outputs": [],
   "source": []
  }
 ],
 "metadata": {
  "kernelspec": {
   "display_name": "Python 3 (ipykernel)",
   "language": "python",
   "name": "python3"
  },
  "language_info": {
   "codemirror_mode": {
    "name": "ipython",
    "version": 3
   },
   "file_extension": ".py",
   "mimetype": "text/x-python",
   "name": "python",
   "nbconvert_exporter": "python",
   "pygments_lexer": "ipython3",
   "version": "3.10.4"
  }
 },
 "nbformat": 4,
 "nbformat_minor": 5
}
