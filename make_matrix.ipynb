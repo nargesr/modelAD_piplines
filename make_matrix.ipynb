{
 "cells": [
  {
   "cell_type": "markdown",
   "id": "8fbf965a",
   "metadata": {},
   "source": [
    "# First step\n",
    "\n",
    "making count and TPM matrix using RSEM files.\n",
    "\n",
    "you need to keep all the RSEM files in folder near to this script called \"rsemFiles\" and then run this script"
   ]
  },
  {
   "cell_type": "code",
   "execution_count": 1,
   "id": "539c50bd",
   "metadata": {},
   "outputs": [],
   "source": [
    "import os\n",
    "import pandas as pd\n",
    "import collections\n",
    "import numpy as np\n",
    "import argparse"
   ]
  },
  {
   "cell_type": "code",
   "execution_count": 2,
   "id": "28434cae",
   "metadata": {},
   "outputs": [],
   "source": [
    "# get RSEM files to prepare RNA matrixs(TPM and count)\n",
    "def prepare_data_RNA_seq(RSEM_directory):\n",
    "    RSEM_filenames = os.listdir(RSEM_directory)\n",
    "    geneID = None\n",
    "    exp = []\n",
    "    count = []\n",
    "\n",
    "    for RSEM_file in RSEM_filenames:\n",
    "        print(RSEM_file)\n",
    "        metadata_RSEM = RSEM_file.split(\"_\")\n",
    "\n",
    "        file = pd.read_csv(RSEM_directory + '/' + RSEM_file, sep='\\t').values\n",
    "\n",
    "        if geneID is None:\n",
    "            geneID = list(file[:, 0])\n",
    "        elif collections.Counter(geneID) != collections.Counter(file[:, 0]):\n",
    "            print(\"order of gene ID is not match!\")\n",
    "\n",
    "        exp.append(list(file[:, 5]))\n",
    "        count.append(list(file[:, 4]))\n",
    "\n",
    "    expData = pd.DataFrame(np.array(exp).transpose(), columns=RSEM_filenames, index=geneID)\n",
    "    countData = pd.DataFrame(np.array(count).transpose(), columns=RSEM_filenames, index=geneID)\n",
    "\n",
    "    expData.to_csv(\"expressionList.csv\")\n",
    "    countData.to_csv(\"countMatrix.csv\")"
   ]
  },
  {
   "cell_type": "code",
   "execution_count": 3,
   "id": "0d7aaffd",
   "metadata": {},
   "outputs": [
    {
     "name": "stdout",
     "output_type": "stream",
     "text": [
      "hipp_M_BL6_12mo_7772_S28_rsem.genes.results\n",
      "hipp_F_BL6_12mo_8123_S32_rsem.genes.results\n",
      "hipp_F_5xFADHEMI_12mo_7939_S29_rsem.genes.results\n",
      "hipp_M_PICALM_HO_12mo_8694_S5_rsem.genes.results\n",
      "hipp_F_5xFADHEMI_PICALM_HO_12mo_9160_S7_rsem.genes.results\n",
      "hipp_M_5xFADHEMI_PICALM_HO_12mo_8693_S4_rsem.genes.results\n",
      "hipp_F_PICALM_HO_12mo_8653_S2_rsem.genes.results\n",
      "hipp_M_5xFADHEMI_PICALM_HO_12mo_8692_S3_rsem.genes.results\n",
      "hipp_M_BL6_12mo_8350_S33_rsem.genes.results\n",
      "hipp_M_BL6_12mo_7121_S20_rsem.genes.results\n",
      "hipp_F_BL6_12mo_7580_S25_rsem.genes.results\n",
      "hipp_M_PICALM_HO_12mo_9082_S6_rsem.genes.results\n",
      "hipp_M_5xFADHEMI_12mo_7120_S19_rsem.genes.results\n",
      "hipp_M_BL6_12mo_8041_S30_rsem.genes.results\n",
      "hipp_M_PICALM_HO_12mo_9325_S13_rsem.genes.results\n",
      "hipp_F_PICALM_HO_12mo_9532_S17_rsem.genes.results\n",
      "hipp_M_5xFADHEMI_12mo_7764_S27_rsem.genes.results\n",
      "hipp_M_PICALM_HO_12mo_9322_S11_rsem.genes.results\n",
      "hipp_F_BL6_12mo_8062_S31_rsem.genes.results\n",
      "hipp_M_PICALM_HO_12mo_8301_S1_rsem.genes.results\n",
      "hipp_F_5xFADHEMI_12mo_7715_S26_rsem.genes.results\n",
      "hipp_M_BL6_12mo_7119_S18_rsem.genes.results\n",
      "hipp_F_5xFADHEMI_PICALM_HO_12mo_9337_S16_rsem.genes.results\n",
      "hipp_M_5xFADHEMI_PICALM_HO_12mo_9310_S10_rsem.genes.results\n",
      "hipp_F_5xFADHEMI_12mo_7548_S23_rsem.genes.results\n",
      "hipp_F_5xFADHEMI_12mo_7547_S22_rsem.genes.results\n",
      "hipp_F_5xFADHEMI_PICALM_HO_12mo_9161_S8_rsem.genes.results\n",
      "hipp_M_5xFADHEMI_12mo_7134_S21_rsem.genes.results\n",
      "hipp_M_5xFADHEMI_PICALM_HO_12mo_9323_S12_rsem.genes.results\n",
      "hipp_F_BL6_12mo_7549_S24_rsem.genes.results\n",
      "hipp_F_5xFADHEMI_PICALM_HO_12mo_9333_S15_rsem.genes.results\n",
      "hipp_F_5xFADHEMI_PICALM_HO_12mo_9162_S9_rsem.genes.results\n",
      "hipp_F_PICALM_HO_12mo_9332_S14_rsem.genes.results\n"
     ]
    }
   ],
   "source": [
    "RSEM_directory = \"rsemFiles\"\n",
    "prepare_data_RNA_seq(RSEM_directory)"
   ]
  },
  {
   "cell_type": "markdown",
   "id": "e475fb5e",
   "metadata": {},
   "source": [
    "## clean metadata and sort it \n",
    "some times name of the mouse models will be prablamatic due to have some special alphabet "
   ]
  },
  {
   "cell_type": "code",
   "execution_count": 4,
   "id": "a07a6ccb",
   "metadata": {},
   "outputs": [],
   "source": [
    "expressionList = pd.read_csv('expressionList.csv', index_col=0)\n",
    "countlist = pd.read_csv('countMatrix.csv', index_col=0)\n",
    "\n",
    "expressionList.columns = expressionList.columns.str.replace('F_PICALMHO', 'F_5xFADWT_PICALMHO')\n",
    "expressionList.columns = expressionList.columns.str.replace('M_PICALMHO', 'M_5xFADWT_PICALMHO')\n",
    "expressionList.columns = expressionList.columns.str.replace('5xFADHEMI_PICALM_HO', '5xFADHEMI_PICALMHO')\n",
    "expressionList.columns = expressionList.columns.str.replace('PICALM_HO', '5xFADWT_PICALMHO')\n",
    "expressionList.columns = expressionList.columns.str.replace('BL6', '5xFADWT')\n",
    "\n",
    "col = []\n",
    "for i in range(expressionList.shape[1]):\n",
    "    tmp = expressionList.columns[i].split(\"_\")\n",
    "    if len(tmp) == 7:\n",
    "        tmp = tmp[3] + \"_\" + tmp[0] + \"_\" + tmp[1] + \"_\" + tmp[2] + \"_\" + tmp[4] + \"_\" + tmp[5]\n",
    "    else:\n",
    "        tmp = tmp[4] + \"_\" + tmp[0] + \"_\" + tmp[1] + \"_\" + tmp[2] + \":\" + tmp[3] + \"_\" + tmp[5] + \"_\" + tmp[6]\n",
    "    col.append(tmp)\n",
    "\n",
    "countlist.columns = col\n",
    "expressionList.columns = col\n",
    "\n",
    "expressionList.to_csv(\"expressionList.csv\")\n",
    "countlist.to_csv(\"countMatrix.csv\")"
   ]
  },
  {
   "cell_type": "markdown",
   "id": "b7eecca0",
   "metadata": {},
   "source": [
    "## Sort data"
   ]
  },
  {
   "cell_type": "code",
   "execution_count": 5,
   "id": "dbaaffeb",
   "metadata": {},
   "outputs": [],
   "source": [
    "### Sort data\n",
    "expressionList.columns = expressionList.columns.str.replace('4mo', '114mo')\n",
    "expressionList.sort_index(axis = 1, inplace=True)\n",
    "expressionList.columns = expressionList.columns.str.replace('114mo', '4mo')\n",
    "\n",
    "expressionList.to_csv(\"expressionList_sorted.csv\")"
   ]
  },
  {
   "cell_type": "markdown",
   "id": "24a9db6e",
   "metadata": {},
   "source": [
    "## make dataTrait"
   ]
  },
  {
   "cell_type": "code",
   "execution_count": 6,
   "id": "a54649a2",
   "metadata": {},
   "outputs": [],
   "source": [
    "## create metadata\n",
    "expressionList = pd.read_csv('expressionList_sorted.csv', index_col=0)\n",
    "metadata = []\n",
    "\n",
    "for RSEM_file in expressionList.columns:\n",
    "    metadata_RSEM = RSEM_file.split(\"_\")\n",
    "    metadata.append([RSEM_file, metadata_RSEM[0], metadata_RSEM[1], metadata_RSEM[2], metadata_RSEM[3]])\n",
    "\n",
    "RNA_metadata = pd.DataFrame(metadata, columns=['file name', 'Time point', 'Tissue', 'Sex', 'Group'])\n",
    "RNA_metadata.to_csv(\"experimentList_sorted.csv\", index=False)"
   ]
  },
  {
   "cell_type": "code",
   "execution_count": null,
   "id": "c0957171",
   "metadata": {},
   "outputs": [],
   "source": []
  }
 ],
 "metadata": {
  "kernelspec": {
   "display_name": "Python 3 (ipykernel)",
   "language": "python",
   "name": "python3"
  },
  "language_info": {
   "codemirror_mode": {
    "name": "ipython",
    "version": 3
   },
   "file_extension": ".py",
   "mimetype": "text/x-python",
   "name": "python",
   "nbconvert_exporter": "python",
   "pygments_lexer": "ipython3",
   "version": "3.10.4"
  }
 },
 "nbformat": 4,
 "nbformat_minor": 5
}
