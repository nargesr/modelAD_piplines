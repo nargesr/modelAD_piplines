{
 "cells": [
  {
   "cell_type": "markdown",
   "metadata": {},
   "source": [
    "## Loading library"
   ]
  },
  {
   "cell_type": "code",
   "execution_count": 7,
   "metadata": {},
   "outputs": [],
   "source": [
    "library(edgeR)\n",
    "library(ggplot2)\n",
    "library(\"ggrepel\")"
   ]
  },
  {
   "cell_type": "markdown",
   "metadata": {},
   "source": [
    "## Define filter"
   ]
  },
  {
   "cell_type": "code",
   "execution_count": 102,
   "metadata": {},
   "outputs": [],
   "source": [
    "column_names = list('Time.point' = c(\"4mo\"), #c(\"12mo\"),\n",
    "                    'Sex' = c(\"F\"), #c(\"F\", \"M\"),\n",
    "                    'Group' = c(\"5xFADWT:Bin1HO\", \"5xFADWT\")) #c(\"5xFADHEMI:Bin1HO\", \"5xFADHEMI\"))"
   ]
  },
  {
   "cell_type": "markdown",
   "metadata": {
    "tags": []
   },
   "source": [
    "## Read the data\n",
    "you should have to prepare two data:\n",
    "1. count matrix on polyA genes\n",
    "2. metadata (with the same order of data set 1)\n"
   ]
  },
  {
   "cell_type": "code",
   "execution_count": 103,
   "metadata": {},
   "outputs": [],
   "source": [
    "#read table (RNA_seq)\n",
    "datExpr = read.csv(\"data/countMatrix_sorted_polyA.csv\", row.name=1, sep=\",\", header = T, check.names = FALSE)"
   ]
  },
  {
   "cell_type": "markdown",
   "metadata": {},
   "source": [
    "for each comparison, you need to repeat this part\n",
    "\n",
    "## Subset data\n",
    "\n",
    "if you want to only consider subset of samples instead of whole you should remove those samples from count matrix\n",
    "In this part of the code, you will keep the information about those samples that you care about it!"
   ]
  },
  {
   "cell_type": "code",
   "execution_count": 104,
   "metadata": {},
   "outputs": [
    {
     "data": {
      "text/html": [
       "<table>\n",
       "<caption>A data.frame: 6 x 6</caption>\n",
       "<thead>\n",
       "\t<tr><th></th><th scope=col>file.name</th><th scope=col>Time.point</th><th scope=col>Tissue</th><th scope=col>Sex</th><th scope=col>Group</th><th scope=col>keep</th></tr>\n",
       "\t<tr><th></th><th scope=col>&lt;chr&gt;</th><th scope=col>&lt;chr&gt;</th><th scope=col>&lt;chr&gt;</th><th scope=col>&lt;chr&gt;</th><th scope=col>&lt;chr&gt;</th><th scope=col>&lt;lgl&gt;</th></tr>\n",
       "</thead>\n",
       "<tbody>\n",
       "\t<tr><th scope=row>0</th><td>hipp_F_5xFADHEMI_4mo_B1_11616_S17_rsem.genes.results       </td><td>4mo</td><td>hipp</td><td>F</td><td>5xFADHEMI       </td><td>TRUE</td></tr>\n",
       "\t<tr><th scope=row>1</th><td>hipp_F_5xFADHEMI_4mo_B1_11626_S19_rsem.genes.results       </td><td>4mo</td><td>hipp</td><td>F</td><td>5xFADHEMI       </td><td>TRUE</td></tr>\n",
       "\t<tr><th scope=row>2</th><td>hipp_F_5xFADHEMI_4mo_B2_11617_S38_rsem.genes.results       </td><td>4mo</td><td>hipp</td><td>F</td><td>5xFADHEMI       </td><td>TRUE</td></tr>\n",
       "\t<tr><th scope=row>3</th><td>hipp_F_5xFADHEMI_4mo_B1_11625_S18_rsem.genes.results       </td><td>4mo</td><td>hipp</td><td>F</td><td>5xFADHEMI       </td><td>TRUE</td></tr>\n",
       "\t<tr><th scope=row>4</th><td>hipp_F_5xFADHEMI_4mo_B1_11615_S16_rsem.genes.results       </td><td>4mo</td><td>hipp</td><td>F</td><td>5xFADHEMI       </td><td>TRUE</td></tr>\n",
       "\t<tr><th scope=row>5</th><td>hipp_F_5xFADHEMI:Bin1HO_4mo_B2_13019_S32_rsem.genes.results</td><td>4mo</td><td>hipp</td><td>F</td><td>5xFADHEMI:Bin1HO</td><td>TRUE</td></tr>\n",
       "</tbody>\n",
       "</table>\n"
      ],
      "text/latex": [
       "A data.frame: 6 x 6\n",
       "\\begin{tabular}{r|llllll}\n",
       "  & file.name & Time.point & Tissue & Sex & Group & keep\\\\\n",
       "  & <chr> & <chr> & <chr> & <chr> & <chr> & <lgl>\\\\\n",
       "\\hline\n",
       "\t0 & hipp\\_F\\_5xFADHEMI\\_4mo\\_B1\\_11616\\_S17\\_rsem.genes.results        & 4mo & hipp & F & 5xFADHEMI        & TRUE\\\\\n",
       "\t1 & hipp\\_F\\_5xFADHEMI\\_4mo\\_B1\\_11626\\_S19\\_rsem.genes.results        & 4mo & hipp & F & 5xFADHEMI        & TRUE\\\\\n",
       "\t2 & hipp\\_F\\_5xFADHEMI\\_4mo\\_B2\\_11617\\_S38\\_rsem.genes.results        & 4mo & hipp & F & 5xFADHEMI        & TRUE\\\\\n",
       "\t3 & hipp\\_F\\_5xFADHEMI\\_4mo\\_B1\\_11625\\_S18\\_rsem.genes.results        & 4mo & hipp & F & 5xFADHEMI        & TRUE\\\\\n",
       "\t4 & hipp\\_F\\_5xFADHEMI\\_4mo\\_B1\\_11615\\_S16\\_rsem.genes.results        & 4mo & hipp & F & 5xFADHEMI        & TRUE\\\\\n",
       "\t5 & hipp\\_F\\_5xFADHEMI:Bin1HO\\_4mo\\_B2\\_13019\\_S32\\_rsem.genes.results & 4mo & hipp & F & 5xFADHEMI:Bin1HO & TRUE\\\\\n",
       "\\end{tabular}\n"
      ],
      "text/markdown": [
       "\n",
       "A data.frame: 6 x 6\n",
       "\n",
       "| <!--/--> | file.name &lt;chr&gt; | Time.point &lt;chr&gt; | Tissue &lt;chr&gt; | Sex &lt;chr&gt; | Group &lt;chr&gt; | keep &lt;lgl&gt; |\n",
       "|---|---|---|---|---|---|---|\n",
       "| 0 | hipp_F_5xFADHEMI_4mo_B1_11616_S17_rsem.genes.results        | 4mo | hipp | F | 5xFADHEMI        | TRUE |\n",
       "| 1 | hipp_F_5xFADHEMI_4mo_B1_11626_S19_rsem.genes.results        | 4mo | hipp | F | 5xFADHEMI        | TRUE |\n",
       "| 2 | hipp_F_5xFADHEMI_4mo_B2_11617_S38_rsem.genes.results        | 4mo | hipp | F | 5xFADHEMI        | TRUE |\n",
       "| 3 | hipp_F_5xFADHEMI_4mo_B1_11625_S18_rsem.genes.results        | 4mo | hipp | F | 5xFADHEMI        | TRUE |\n",
       "| 4 | hipp_F_5xFADHEMI_4mo_B1_11615_S16_rsem.genes.results        | 4mo | hipp | F | 5xFADHEMI        | TRUE |\n",
       "| 5 | hipp_F_5xFADHEMI:Bin1HO_4mo_B2_13019_S32_rsem.genes.results | 4mo | hipp | F | 5xFADHEMI:Bin1HO | TRUE |\n",
       "\n"
      ],
      "text/plain": [
       "  file.name                                                   Time.point Tissue\n",
       "0 hipp_F_5xFADHEMI_4mo_B1_11616_S17_rsem.genes.results        4mo        hipp  \n",
       "1 hipp_F_5xFADHEMI_4mo_B1_11626_S19_rsem.genes.results        4mo        hipp  \n",
       "2 hipp_F_5xFADHEMI_4mo_B2_11617_S38_rsem.genes.results        4mo        hipp  \n",
       "3 hipp_F_5xFADHEMI_4mo_B1_11625_S18_rsem.genes.results        4mo        hipp  \n",
       "4 hipp_F_5xFADHEMI_4mo_B1_11615_S16_rsem.genes.results        4mo        hipp  \n",
       "5 hipp_F_5xFADHEMI:Bin1HO_4mo_B2_13019_S32_rsem.genes.results 4mo        hipp  \n",
       "  Sex Group            keep\n",
       "0 F   5xFADHEMI        TRUE\n",
       "1 F   5xFADHEMI        TRUE\n",
       "2 F   5xFADHEMI        TRUE\n",
       "3 F   5xFADHEMI        TRUE\n",
       "4 F   5xFADHEMI        TRUE\n",
       "5 F   5xFADHEMI:Bin1HO TRUE"
      ]
     },
     "metadata": {},
     "output_type": "display_data"
    }
   ],
   "source": [
    "datTraits = read.csv(\"data/experimentList_sorted.csv\", row.name=1, sep=\",\", header = T)\n",
    "datTraits$keep = TRUE\n",
    "head(datTraits)"
   ]
  },
  {
   "cell_type": "code",
   "execution_count": 105,
   "metadata": {},
   "outputs": [
    {
     "data": {
      "text/html": [
       "<style>\n",
       ".list-inline {list-style: none; margin:0; padding: 0}\n",
       ".list-inline>li {display: inline-block}\n",
       ".list-inline>li:not(:last-child)::after {content: \"\\00b7\"; padding: 0 .5ex}\n",
       "</style>\n",
       "<ol class=list-inline><li>'5xFADHEMI'</li><li>'5xFADHEMI:Bin1HO'</li><li>'5xFADWT'</li><li>'5xFADWT:Bin1HO'</li></ol>\n"
      ],
      "text/latex": [
       "\\begin{enumerate*}\n",
       "\\item '5xFADHEMI'\n",
       "\\item '5xFADHEMI:Bin1HO'\n",
       "\\item '5xFADWT'\n",
       "\\item '5xFADWT:Bin1HO'\n",
       "\\end{enumerate*}\n"
      ],
      "text/markdown": [
       "1. '5xFADHEMI'\n",
       "2. '5xFADHEMI:Bin1HO'\n",
       "3. '5xFADWT'\n",
       "4. '5xFADWT:Bin1HO'\n",
       "\n",
       "\n"
      ],
      "text/plain": [
       "[1] \"5xFADHEMI\"        \"5xFADHEMI:Bin1HO\" \"5xFADWT\"          \"5xFADWT:Bin1HO\"  "
      ]
     },
     "metadata": {},
     "output_type": "display_data"
    }
   ],
   "source": [
    "unique(datTraits$Group)"
   ]
  },
  {
   "cell_type": "code",
   "execution_count": 106,
   "metadata": {},
   "outputs": [],
   "source": [
    "## you should cahnge column name and keep variable based on your comparison you want to do\n",
    "## if you need to do filtering in more than one columns you should copy and pase this part of the code\n",
    "for (name in names(column_names)){\n",
    "    for (i in c(1:dim(datTraits)[1])){\n",
    "        if (!(datTraits[i, name] %in% column_names[[name]])){\n",
    "            datTraits[i, \"keep\"] = FALSE\n",
    "        }\n",
    "    }\n",
    "}"
   ]
  },
  {
   "cell_type": "code",
   "execution_count": 107,
   "metadata": {},
   "outputs": [],
   "source": [
    "keep = datTraits[datTraits$keep, ]\n",
    "datExpr_selected = datExpr[, keep$file.name]"
   ]
  },
  {
   "cell_type": "markdown",
   "metadata": {},
   "source": [
    "### Define group\n",
    "\n",
    "after you get your data it's time to define the group which is bassically categorize the parameter you want to investigate by doing DEG\n",
    "here you need to define which parameter you want to investigte"
   ]
  },
  {
   "cell_type": "code",
   "execution_count": 108,
   "metadata": {},
   "outputs": [
    {
     "data": {
      "text/html": [
       "<style>\n",
       ".list-inline {list-style: none; margin:0; padding: 0}\n",
       ".list-inline>li {display: inline-block}\n",
       ".list-inline>li:not(:last-child)::after {content: \"\\00b7\"; padding: 0 .5ex}\n",
       "</style>\n",
       "<ol class=list-inline><li>1</li><li>1</li><li>1</li><li>1</li><li>2</li><li>2</li><li>2</li><li>2</li><li>2</li></ol>\n"
      ],
      "text/latex": [
       "\\begin{enumerate*}\n",
       "\\item 1\n",
       "\\item 1\n",
       "\\item 1\n",
       "\\item 1\n",
       "\\item 2\n",
       "\\item 2\n",
       "\\item 2\n",
       "\\item 2\n",
       "\\item 2\n",
       "\\end{enumerate*}\n"
      ],
      "text/markdown": [
       "1. 1\n",
       "2. 1\n",
       "3. 1\n",
       "4. 1\n",
       "5. 2\n",
       "6. 2\n",
       "7. 2\n",
       "8. 2\n",
       "9. 2\n",
       "\n",
       "\n"
      ],
      "text/plain": [
       "[1] 1 1 1 1 2 2 2 2 2"
      ]
     },
     "metadata": {},
     "output_type": "display_data"
    }
   ],
   "source": [
    "parameter = \"Group\"\n",
    "options = unique(keep[,parameter])\n",
    "groups = rep(0, dim(datExpr_selected)[2])\n",
    "for (i in c(1:dim(datExpr_selected)[2])) {\n",
    "  if (keep[i,parameter] == options[1]){\n",
    "    groups[i] = 1\n",
    "  }\n",
    "  if (keep[i,parameter] == options[2]){\n",
    "    groups[i] = 2\n",
    "  }\n",
    "}\n",
    "groups"
   ]
  },
  {
   "cell_type": "markdown",
   "metadata": {},
   "source": [
    "## Running DEG using edgR\n",
    "\n",
    "Now we have everythings, we only need to run it."
   ]
  },
  {
   "cell_type": "code",
   "execution_count": 109,
   "metadata": {},
   "outputs": [],
   "source": [
    "y = DGEList(counts = datExpr_selected, group=groups)\n",
    "y = calcNormFactors(y)\n",
    "design = model.matrix(~groups)\n",
    "y = estimateDisp(y, design)\n",
    "\n",
    "keep = filterByExpr(y)\n",
    "y = y[keep, , keep.lib.sizes=FALSE]\n",
    "\n",
    "#Testing for DE Genes\n",
    "et = exactTest(y)\n",
    "\n",
    "#extract table from the exact test( here is where we know if they are DE or not)\n",
    "et_out = (topTags(et, n=Inf, adjust.method = \"BH\"))\n",
    "et = et_out$table\n",
    "et$gene_name = rownames(et)"
   ]
  },
  {
   "cell_type": "code",
   "execution_count": 110,
   "metadata": {},
   "outputs": [],
   "source": [
    "#read gene list to convert gene ID to gene list\n",
    "annot = read.table(\"genelist.vM21.annotation.tsv\", sep=\"\\t\", header = T, row.name=1)\n",
    "\n",
    "## convert gene ID to gene Name\n",
    "for (i in c(1:dim(et)[1])){\n",
    "    et$gene_name[i] = annot[et$gene_name[i], 'gene_name']\n",
    "}"
   ]
  },
  {
   "cell_type": "code",
   "execution_count": 111,
   "metadata": {},
   "outputs": [
    {
     "data": {
      "text/plain": [
       "\n",
       "   No    Up \n",
       "13923    44 "
      ]
     },
     "metadata": {},
     "output_type": "display_data"
    }
   ],
   "source": [
    "# label DE genes\n",
    "# you can change therosholds base on your data!\n",
    "et$DE = \"\"\n",
    "et$DE[et$FDR < 0.05 & et$logFC > 0 ] = \"Up\"\n",
    "et$DE[et$FDR < 0.05 & et$logFC < 0 ] = \"Down\"\n",
    "et$DE[ et$DE == \"\" ] = \"No\"\n",
    "\n",
    "table(et$DE)"
   ]
  },
  {
   "cell_type": "code",
   "execution_count": 112,
   "metadata": {},
   "outputs": [],
   "source": [
    "# save table\n",
    "if (length(column_names[['Sex']]) == 1){\n",
    "    name = paste0(\"DEG/table_DEG_\", column_names[['Sex']], \"_\", column_names[['Time.point']], \"_\", column_names[['Group']][1], \"_\", column_names[['Group']][2], \".tsv\")\n",
    "} else {\n",
    "    name = paste0(\"DEG/table_DEG_\", column_names[['Time.point']], \"_\", column_names[['Group']][1], \"_\", column_names[['Group']][2], \".tsv\")\n",
    "}\n",
    "\n",
    "write.table(et, name, sep=\"\\t\", row.names = F, quote = F)"
   ]
  },
  {
   "cell_type": "markdown",
   "metadata": {},
   "source": [
    "## volcano plot\n",
    "\n",
    "There is only one step left! plotting the results\n",
    "if you change the default threshold you need to change it here as well!\n",
    "For doing that `geom_vline` and `geom_hline` function"
   ]
  },
  {
   "cell_type": "code",
   "execution_count": 113,
   "metadata": {},
   "outputs": [
    {
     "name": "stderr",
     "output_type": "stream",
     "text": [
      "Warning message:\n",
      "\"ggrepel: 35 unlabeled data points (too many overlaps). Consider increasing max.overlaps\"\n"
     ]
    },
    {
     "data": {
      "text/html": [
       "<strong>png:</strong> 2"
      ],
      "text/latex": [
       "\\textbf{png:} 2"
      ],
      "text/markdown": [
       "**png:** 2"
      ],
      "text/plain": [
       "png \n",
       "  2 "
      ]
     },
     "metadata": {},
     "output_type": "display_data"
    },
    {
     "data": {
      "text/html": [
       "<strong>null device:</strong> 1"
      ],
      "text/latex": [
       "\\textbf{null device:} 1"
      ],
      "text/markdown": [
       "**null device:** 1"
      ],
      "text/plain": [
       "null device \n",
       "          1 "
      ]
     },
     "metadata": {},
     "output_type": "display_data"
    }
   ],
   "source": [
    "et$label = et$gene_name\n",
    "for (i in c(1:dim(et)[1])) {\n",
    "  if (et$DE[i] == \"No\") {\n",
    "    et$label[i] = \"\"\n",
    "  }\n",
    "}\n",
    "\n",
    "if (length(column_names[['Sex']]) == 1){\n",
    "    name = paste0(\"DEG/plot_DEG_\", column_names[['Sex']], \"_\", column_names[['Time.point']], \"_\", column_names[['Group']][1], \"_\", column_names[['Group']][2], \".pdf\")\n",
    "} else {\n",
    "    name = paste0(\"DEG/plot_DEG_\", column_names[['Time.point']], \"_\", column_names[['Group']][1], \"_\", column_names[['Group']][2], \".pdf\")\n",
    "}\n",
    "\n",
    "color = c()\n",
    "tmp = names(table(et$DE))\n",
    "if (\"Down\" %in% tmp){\n",
    "    color = c(color, \"blue\")\n",
    "}\n",
    "if (\"No\" %in% tmp){\n",
    "    color = c(color, \"black\")\n",
    "}\n",
    "if (\"Up\" %in% tmp){\n",
    "    color = c(color, \"red\")\n",
    "}\n",
    "\n",
    "\n",
    "pdf(name, width = 6, height = 6)\n",
    "ggplot(data=et, aes(x=logFC, y=-log10(FDR), col=DE, label=label)) +\n",
    "  geom_point() + \n",
    "  theme_minimal() +\n",
    "  geom_text_repel() +\n",
    "  scale_color_manual(values=color) +\n",
    "  geom_vline(xintercept=c(-0, 0), col=\"red\") +\n",
    "  geom_hline(yintercept=-log10(0.05), col=\"red\")\n",
    "dev.off();\n",
    "dev.off();"
   ]
  },
  {
   "cell_type": "code",
   "execution_count": null,
   "metadata": {},
   "outputs": [],
   "source": []
  }
 ],
 "metadata": {
  "kernelspec": {
   "display_name": "R",
   "language": "R",
   "name": "ir"
  },
  "language_info": {
   "codemirror_mode": "r",
   "file_extension": ".r",
   "mimetype": "text/x-r-source",
   "name": "R",
   "pygments_lexer": "r",
   "version": "4.0.2"
  }
 },
 "nbformat": 4,
 "nbformat_minor": 4
}
